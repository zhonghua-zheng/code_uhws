{
 "cells": [
  {
   "cell_type": "markdown",
   "metadata": {},
   "source": [
    "This script is used to get ensemble training data  \n",
    "You have to use a **large memory** to run this notebook  \n",
    "The results are at \"/glade/scratch/zhonghua/urban_XGB/ensem_data/2006.csv\" and \"/glade/scratch/zhonghua/urban_XGB/ensem_data/2061.csv\""
   ]
  },
  {
   "cell_type": "code",
   "execution_count": 1,
   "metadata": {},
   "outputs": [],
   "source": [
    "import xarray as xr\n",
    "import pandas as pd\n",
    "import numpy as np\n",
    "import time\n",
    "import pickle\n",
    "import gc"
   ]
  },
  {
   "cell_type": "code",
   "execution_count": 2,
   "metadata": {},
   "outputs": [],
   "source": [
    "def load_df_max_TREFHT(member, start_date, end_date):\n",
    "    path = \"/glade/scratch/zhonghua/urban_heat_train/data/\"\n",
    "    print(\"***************Start loading data***************\")\n",
    "    t0 = time.time()\n",
    "    df = pd.read_csv(path+member+\"_\"+start_date+\"_\"+end_date+\".csv\")\n",
    "    elapsed_time = time.time() - t0\n",
    "    print(\"It takes elapsed_time\", elapsed_time, \"to read csv\")\n",
    "    return df"
   ]
  },
  {
   "cell_type": "markdown",
   "metadata": {},
   "source": [
    "# 2006"
   ]
  },
  {
   "cell_type": "code",
   "execution_count": null,
   "metadata": {},
   "outputs": [],
   "source": [
    "start_date=\"2006\";end_date=\"2015\"\n",
    "df_ls=[]\n",
    "for i in range(2,34):\n",
    "    t_0=time.time()\n",
    "    member = (str(i).zfill(3))\n",
    "    print(\"member:\",member)\n",
    "    df = load_df_max_TREFHT(member, start_date, end_date)\n",
    "    df_g = df.groupby(['lat','lon'], group_keys=False).apply(pd.DataFrame.sample, frac=.1, random_state=i).set_index(['lat','lon'])\n",
    "    df_g[\"member\"]=member\n",
    "    print(\"Shape:\",df_g.shape)\n",
    "    df_ls.append(df_g)\n",
    "    del df, df_g\n",
    "    gc.collect()\n",
    "    print(\"runtime:\",time.time()-t_0)\n",
    "    print(\"\\n\")\n",
    "    \n",
    "t_0=time.time()\n",
    "pd.concat(df_ls).to_csv(\"/glade/scratch/zhonghua/urban_XGB/ensem_data/2006.csv\")\n",
    "print(time.time()-t_0)"
   ]
  },
  {
   "cell_type": "markdown",
   "metadata": {},
   "source": [
    "# 2061"
   ]
  },
  {
   "cell_type": "code",
   "execution_count": null,
   "metadata": {},
   "outputs": [],
   "source": [
    "#del df_ls\n",
    "#gc.collect()\n",
    "\n",
    "start_date=\"2061\";end_date=\"2070\"\n",
    "df_ls=[]\n",
    "for i in range(2,34):\n",
    "    t_0=time.time()\n",
    "    member = (str(i).zfill(3))\n",
    "    print(\"member:\",member)\n",
    "    df = load_df_max_TREFHT(member, start_date, end_date)\n",
    "    df_g = df.groupby(['lat','lon'], group_keys=False).apply(pd.DataFrame.sample, frac=.1, random_state=i).set_index(['lat','lon'])\n",
    "    df_g[\"member\"]=member\n",
    "    print(\"Shape:\",df_g.shape)\n",
    "    df_ls.append(df_g)\n",
    "    del df, df_g\n",
    "    gc.collect()\n",
    "    print(\"runtime:\",time.time()-t_0)\n",
    "    print(\"\\n\")\n",
    "    \n",
    "t_0=time.time()\n",
    "pd.concat(df_ls).to_csv(\"/glade/scratch/zhonghua/urban_XGB/ensem_data/2061.csv\")\n",
    "print(time.time()-t_0)"
   ]
  },
  {
   "cell_type": "code",
   "execution_count": null,
   "metadata": {},
   "outputs": [],
   "source": []
  }
 ],
 "metadata": {
  "kernelspec": {
   "display_name": "Python 3",
   "language": "python",
   "name": "python3"
  },
  "language_info": {
   "codemirror_mode": {
    "name": "ipython",
    "version": 3
   },
   "file_extension": ".py",
   "mimetype": "text/x-python",
   "name": "python",
   "nbconvert_exporter": "python",
   "pygments_lexer": "ipython3",
   "version": "3.7.5"
  }
 },
 "nbformat": 4,
 "nbformat_minor": 2
}
