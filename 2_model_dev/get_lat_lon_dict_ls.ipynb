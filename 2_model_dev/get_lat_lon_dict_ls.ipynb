{
 "cells": [
  {
   "cell_type": "markdown",
   "metadata": {},
   "source": [
    "This script is used to   \n",
    "1) get the lat_lon_dict, the results will be saved as lat_lon_dict.dat    \n",
    "2) get the fixed lat_ls, the results will be saved as lat_ls.dat (used for speeding up the training process)"
   ]
  },
  {
   "cell_type": "code",
   "execution_count": 1,
   "metadata": {},
   "outputs": [],
   "source": [
    "import pandas as pd\n",
    "import numpy as np\n",
    "import time\n",
    "import pickle\n",
    "\n",
    "import xarray as xr\n",
    "import datetime\n",
    "import gc"
   ]
  },
  {
   "cell_type": "markdown",
   "metadata": {},
   "source": [
    "# Get the lat_lon_dict"
   ]
  },
  {
   "cell_type": "code",
   "execution_count": 2,
   "metadata": {},
   "outputs": [],
   "source": [
    "# load dataframe with maximal temp\n",
    "def load_df_max_TREFHT(member, start_date, end_date):\n",
    "    path = \"/glade/scratch/zhonghua/CESM-LE-members-csv/\"\n",
    "    print(\"***************Start loading data***************\")\n",
    "    start_time = time.time()\n",
    "    df = pd.read_csv(path+member+\"_\"+start_date+\"_\"+end_date+\".csv\")\n",
    "    elapsed_time = time.time() - start_time\n",
    "    print(\"It takes elapsed_time\", elapsed_time, \"to read csv\")\n",
    "    return df"
   ]
  },
  {
   "cell_type": "code",
   "execution_count": 3,
   "metadata": {},
   "outputs": [
    {
     "name": "stdout",
     "output_type": "stream",
     "text": [
      "***************Start loading data***************\n",
      "It takes elapsed_time 24.13679027557373 to read csv\n"
     ]
    }
   ],
   "source": [
    "member = \"002\"; start_date = \"2006\"; end_date = \"2015\"\n",
    "\n",
    "# load member 002\n",
    "df_002 = load_df_max_TREFHT(member, start_date, end_date)\n",
    "# copy the dataframe\n",
    "df_copy=df_002[[\"lat\",\"lon\"]].copy()\n",
    "# convert the lat/lon to string\n",
    "df_copy[[\"lat\",\"lon\"]]=df_copy[[\"lat\",\"lon\"]].round(4).astype(str)\n",
    "# get lat/lon combination dataframe\n",
    "lat_lon_df=df_copy.drop_duplicates().reset_index(drop=True)"
   ]
  },
  {
   "cell_type": "code",
   "execution_count": 4,
   "metadata": {},
   "outputs": [],
   "source": [
    "lat_lon_dict={}\n",
    "lat_ls=list(lat_lon_df[\"lat\"].unique())\n",
    "for lat in lat_ls:\n",
    "    lat_lon_dict[lat]=list(lat_lon_df[\"lon\"][lat_lon_df[\"lat\"]==lat].unique())\n",
    "    \n",
    "# save as \".dat\"\n",
    "pickle.dump(lat_lon_dict, open(\"/glade/scratch/zhonghua/lat_lon_dict.dat\",\"wb\"))"
   ]
  },
  {
   "cell_type": "markdown",
   "metadata": {},
   "source": [
    "## Check the results, if the amount is 4439"
   ]
  },
  {
   "cell_type": "code",
   "execution_count": 5,
   "metadata": {},
   "outputs": [
    {
     "name": "stdout",
     "output_type": "stream",
     "text": [
      "4439\n"
     ]
    }
   ],
   "source": [
    "sum_sum=0\n",
    "for lat in lat_lon_dict:\n",
    "    sum_sum+=len(lat_lon_dict[lat])\n",
    "print(sum_sum)"
   ]
  },
  {
   "cell_type": "markdown",
   "metadata": {},
   "source": [
    "# Get lat_ls"
   ]
  },
  {
   "cell_type": "code",
   "execution_count": 6,
   "metadata": {},
   "outputs": [
    {
     "name": "stdout",
     "output_type": "stream",
     "text": [
      "4439\n"
     ]
    }
   ],
   "source": [
    "lat_lon_dict=pickle.load(open(\"/glade/scratch/zhonghua/lat_lon_dict.dat\",\"rb\"))\n",
    "sum_sum=0\n",
    "for lat in lat_lon_dict:\n",
    "    sum_sum+=len(lat_lon_dict[lat])\n",
    "print(sum_sum)"
   ]
  },
  {
   "cell_type": "code",
   "execution_count": 7,
   "metadata": {},
   "outputs": [],
   "source": [
    "lat_ls=list(lat_lon_dict)\n",
    "pickle.dump(lat_ls, open(\"/glade/scratch/zhonghua/lat_ls.dat\",\"wb\"))"
   ]
  },
  {
   "cell_type": "code",
   "execution_count": 8,
   "metadata": {},
   "outputs": [],
   "source": [
    "lat_ls_load=pickle.load(open(\"/glade/scratch/zhonghua/lat_ls.dat\",\"rb\"))"
   ]
  },
  {
   "cell_type": "code",
   "execution_count": 9,
   "metadata": {},
   "outputs": [
    {
     "data": {
      "text/plain": [
       "64"
      ]
     },
     "execution_count": 9,
     "metadata": {},
     "output_type": "execute_result"
    }
   ],
   "source": [
    "lat_ls_odd=[]\n",
    "for lat in lat_ls_load[::2]:\n",
    "    lat_ls_odd.append(lat)\n",
    "len(lat_ls_odd)"
   ]
  },
  {
   "cell_type": "code",
   "execution_count": 10,
   "metadata": {},
   "outputs": [
    {
     "name": "stdout",
     "output_type": "stream",
     "text": [
      "['-53.2461', '-51.3613', '-45.7068', '-42.8796', '-40.9948', '-39.1099', '-37.2251', '-35.3403', '-33.4555', '-31.5707', '-29.6859', '-27.801', '-25.9162', '-24.0314', '-22.1466', '-20.2618', '-18.377', '-16.4921', '-14.6073', '-12.7225', '-10.8377', '-8.9529', '-7.0681', '-5.1832', '-3.2984', '-1.4136', '0.4712', '2.356', '4.2408', '6.1257', '8.0105', '9.8953', '11.7801', '13.6649', '15.5497', '17.4346', '19.3194', '21.2042', '23.089', '24.9738', '26.8586', '28.7435', '30.6283', '32.5131', '34.3979', '36.2827', '38.1675', '40.0524', '41.9372', '43.822', '45.7068', '47.5916', '49.4764', '51.3613', '53.2461', '55.1309', '57.0157', '58.9005', '60.7853', '62.6702', '64.555', '66.4398', '68.3246', '70.2094']\n"
     ]
    }
   ],
   "source": [
    "lat_ls_even=[]\n",
    "for lat in lat_ls_load[1::2]:\n",
    "    lat_ls_even.append(lat)\n",
    "print(lat_ls_even)"
   ]
  }
 ],
 "metadata": {
  "kernelspec": {
   "display_name": "Python 3",
   "language": "python",
   "name": "python3"
  },
  "language_info": {
   "codemirror_mode": {
    "name": "ipython",
    "version": 3
   },
   "file_extension": ".py",
   "mimetype": "text/x-python",
   "name": "python",
   "nbconvert_exporter": "python",
   "pygments_lexer": "ipython3",
   "version": "3.6.7"
  }
 },
 "nbformat": 4,
 "nbformat_minor": 2
}
