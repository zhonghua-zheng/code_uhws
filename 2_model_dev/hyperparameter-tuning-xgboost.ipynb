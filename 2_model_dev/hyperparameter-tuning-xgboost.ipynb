{
 "cells": [
  {
   "cell_type": "markdown",
   "metadata": {},
   "source": [
    "This script is used for tuning the hyperparameters. The hyperparameters would be used for training the emulators"
   ]
  },
  {
   "cell_type": "markdown",
   "metadata": {},
   "source": [
    "```bash\n",
    "qsub -X -I -l select=1:ncpus=36 -l walltime=03:00:00 -q regular -A <NCAR_project_id>\n",
    "source /glade/work/$USER/personal_clone_name/bin/activate\n",
    "start-notebook\n",
    "```"
   ]
  },
  {
   "cell_type": "code",
   "execution_count": 1,
   "metadata": {},
   "outputs": [
    {
     "name": "stdout",
     "output_type": "stream",
     "text": [
      "XGBoost version 1.3.3\n",
      "skopt version 0.8.1\n",
      "sklearn version 0.22\n"
     ]
    }
   ],
   "source": [
    "import numpy as np\n",
    "import pandas as pd\n",
    "import xarray as xr\n",
    "import xgboost as xgb\n",
    "import skopt\n",
    "import sklearn\n",
    "from xgboost import XGBRegressor\n",
    "from sklearn import model_selection, metrics\n",
    "from sklearn.model_selection import GridSearchCV, train_test_split, cross_validate\n",
    "from sklearn.metrics import mean_squared_error\n",
    "from skopt import BayesSearchCV\n",
    "from skopt.space import Real, Categorical, Integer\n",
    "import time\n",
    "import matplotlib.pyplot as plt\n",
    "import gc\n",
    "\n",
    "print(f\"XGBoost version {xgb.__version__}\")\n",
    "print(f\"skopt version {skopt.__version__}\")\n",
    "print(f\"sklearn version {sklearn.__version__}\")"
   ]
  },
  {
   "cell_type": "markdown",
   "metadata": {},
   "source": [
    "## load the data"
   ]
  },
  {
   "cell_type": "code",
   "execution_count": 2,
   "metadata": {},
   "outputs": [
    {
     "name": "stdout",
     "output_type": "stream",
     "text": [
      "CPU times: user 2min 17s, sys: 18.1 s, total: 2min 35s\n",
      "Wall time: 2min 40s\n"
     ]
    }
   ],
   "source": [
    "%%time\n",
    "df_ls = []\n",
    "for start_date in [\"2006\",\"2061\"]:\n",
    "    df_ls.append(pd.read_csv(\"/glade/scratch/zhonghua/ensem_training_data/\"+start_date+\".csv\")\\\n",
    "                 .sample(frac=0.001, random_state=66))\n",
    "    \n",
    "df = pd.concat(df_ls)\n",
    "del df_ls\n",
    "gc.collect()"
   ]
  },
  {
   "cell_type": "markdown",
   "metadata": {},
   "source": [
    "## define the features"
   ]
  },
  {
   "cell_type": "code",
   "execution_count": 3,
   "metadata": {},
   "outputs": [],
   "source": [
    "df[\"time\"]=pd.to_datetime(df[\"time\"])\n",
    "months = [\"Jan\",\"Feb\", \"Mar\", \"Apr\", \"May\", \"June\", \"July\", \"Aug\", \"Sept\", \"Oct\", \"Nov\", \"Dec\"]\n",
    "month_to_months = dict(zip(range(1,13), months))\n",
    "df = pd.concat([df,pd.get_dummies(df[\"time\"].dt.month.map(month_to_months).astype('category'))],axis=1)\n",
    "\n",
    "features_ls = [\"QBOT\",\"UBOT\",\"VBOT\",\n",
    "               \"TREFHT\",\n",
    "               \"FLNS\",\"FSNS\",\n",
    "               \"PRECT\",\"PRSN\",\n",
    "               \"Jan\",\"Feb\", \"Mar\", \n",
    "               \"Apr\", \"May\", \"June\", \n",
    "               \"July\", \"Aug\", \"Sept\", \n",
    "               \"Oct\", \"Nov\", \"Dec\"]\n",
    "    \n",
    "pred = [\"TREFMXAV_U\"]\n",
    "\n",
    "X_train = df[features_ls]\n",
    "y_train = df[pred]"
   ]
  },
  {
   "cell_type": "markdown",
   "metadata": {},
   "source": [
    "## BayesSearchCV"
   ]
  },
  {
   "cell_type": "code",
   "execution_count": 4,
   "metadata": {},
   "outputs": [],
   "source": [
    "def hyper_tune(n_iter):\n",
    "    # https://xgboost.readthedocs.io/en/latest/python/python_api.html\n",
    "    # https://xgboost.readthedocs.io/en/latest/parameter.html\n",
    "\n",
    "    # hyperparameters from https://docs.aws.amazon.com/sagemaker/latest/dg/xgboost-tuning.html\n",
    "    # changes: \n",
    "    # n_estimator from [1,4000] -> [1,500]\n",
    "    # max_depth from [0,10] -> [0,6]\n",
    "\n",
    "    opt = BayesSearchCV(\n",
    "            XGBRegressor(objective ='reg:squarederror',n_jobs=36),\n",
    "            {\n",
    "                'learning_rate': Real(0.01,1),\n",
    "                'n_estimators': Integer(10,600),\n",
    "                'max_depth': Integer(2,7)\n",
    "            },\n",
    "            scoring = 'neg_mean_squared_error',\n",
    "            n_iter=n_iter,\n",
    "            cv=5,\n",
    "            random_state=66\n",
    "    )\n",
    "    _ = opt.fit(df[features_ls],df[pred])\n",
    "    \n",
    "    for k in opt.best_params_:\n",
    "        print(f\"{k}: {opt.best_params_[k]}\")"
   ]
  },
  {
   "cell_type": "code",
   "execution_count": 5,
   "metadata": {},
   "outputs": [
    {
     "name": "stderr",
     "output_type": "stream",
     "text": [
      "/glade/work/zhonghua/personal_clone_name/lib/python3.6/site-packages/sklearn/utils/validation.py:933: FutureWarning: Passing attributes to check_is_fitted is deprecated and will be removed in 0.23. The attributes argument is ignored.\n",
      "  \"argument is ignored.\", FutureWarning)\n"
     ]
    },
    {
     "name": "stdout",
     "output_type": "stream",
     "text": [
      "learning_rate: 0.08796346103242554\n",
      "max_depth: 6\n",
      "n_estimators: 576\n",
      "CPU times: user 1d 4h 47min 19s, sys: 1h 5min 47s, total: 1d 5h 53min 6s\n",
      "Wall time: 52min 6s\n"
     ]
    }
   ],
   "source": [
    "%%time\n",
    "hyper_tune(n_iter=128)"
   ]
  },
  {
   "cell_type": "markdown",
   "metadata": {},
   "source": [
    "## print number of samples"
   ]
  },
  {
   "cell_type": "code",
   "execution_count": 6,
   "metadata": {},
   "outputs": [
    {
     "data": {
      "text/plain": [
       "(103696, 25)"
      ]
     },
     "execution_count": 6,
     "metadata": {},
     "output_type": "execute_result"
    }
   ],
   "source": [
    "df.shape"
   ]
  }
 ],
 "metadata": {
  "kernelspec": {
   "display_name": "Python 3",
   "language": "python",
   "name": "python3"
  },
  "language_info": {
   "codemirror_mode": {
    "name": "ipython",
    "version": 3
   },
   "file_extension": ".py",
   "mimetype": "text/x-python",
   "name": "python",
   "nbconvert_exporter": "python",
   "pygments_lexer": "ipython3",
   "version": "3.6.7"
  }
 },
 "nbformat": 4,
 "nbformat_minor": 4
}
