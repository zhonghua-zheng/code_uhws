{
 "cells": [
  {
   "cell_type": "markdown",
   "metadata": {},
   "source": [
    "This script is used to generate the frequency, total days, and intensity of the UHWs using **CESM-LE**\n",
    "\n",
    "The data sets are from:   \n",
    "```bash\n",
    "/glade/scratch/zhonghua/CESM-LE-members-urban-temp-extracted-csv-min/\n",
    "```\n",
    "\n",
    "The results are saved at:\n",
    "```\n",
    "/glade/scratch/zhonghua/uhws_min/UHWs_CESM/\n",
    "```\n",
    "\n",
    "Note:     \n",
    "**2006**: Using 2006 itself to calculate the percentile, frequency, total days, and intensity  \n",
    "**2061**: Using the percentile of **2006** to calculate frequency, total days, and intensity of 2061  "
   ]
  },
  {
   "cell_type": "code",
   "execution_count": 1,
   "metadata": {},
   "outputs": [],
   "source": [
    "import xarray as xr\n",
    "import datetime\n",
    "import pandas as pd\n",
    "import numpy as np\n",
    "from mpl_toolkits.basemap import Basemap\n",
    "import matplotlib.pyplot as plt\n",
    "import time\n",
    "import gc\n",
    "import util\n",
    "# from s3fs.core import S3FileSystem\n",
    "# s3 = S3FileSystem()\n",
    "\n",
    "save_dir = \"/glade/scratch/zhonghua/uhws_min/UHWs_CESM/\""
   ]
  },
  {
   "cell_type": "markdown",
   "metadata": {},
   "source": [
    "## Step 1: Load 2006 and 2061 data"
   ]
  },
  {
   "cell_type": "code",
   "execution_count": 2,
   "metadata": {},
   "outputs": [
    {
     "name": "stdout",
     "output_type": "stream",
     "text": [
      "Start to load csv /glade/scratch/zhonghua/CESM-LE-members-urban-temp-extracted-csv-min/urban_heat_LE_2006.csv\n",
      "It takes 59.27966666221619 to load csv\n",
      "Start to load csv /glade/scratch/zhonghua/CESM-LE-members-urban-temp-extracted-csv-min/urban_heat_LE_2061.csv\n",
      "It takes 58.586549043655396 to load csv\n"
     ]
    }
   ],
   "source": [
    "cesm_2006 = util.load_df(\"/glade/scratch/zhonghua/CESM-LE-members-urban-temp-extracted-csv-min\"\\\n",
    "                         \"/urban_heat_LE_2006.csv\")\n",
    "cesm_2061 = util.load_df(\"/glade/scratch/zhonghua/CESM-LE-members-urban-temp-extracted-csv-min\"\\\n",
    "                         \"/urban_heat_LE_2061.csv\")"
   ]
  },
  {
   "cell_type": "markdown",
   "metadata": {},
   "source": [
    "## Step 2: Start the pipeline to use 98% percentile (2006) to get frequency (events/year), total days (days/year), and intensity (K) of 2006 and 2061"
   ]
  },
  {
   "cell_type": "code",
   "execution_count": 3,
   "metadata": {},
   "outputs": [],
   "source": [
    "# create member_ls\n",
    "member_ls = []\n",
    "for i in range(2,34):\n",
    "    member_idx = (str(i).zfill(3))\n",
    "    member_ls.append(member_idx+\"_min\")"
   ]
  },
  {
   "cell_type": "code",
   "execution_count": 4,
   "metadata": {
    "scrolled": false
   },
   "outputs": [
    {
     "name": "stdout",
     "output_type": "stream",
     "text": [
      "start member: 002_min\n",
      "The quantile is: 0.98\n",
      "The duration threshold is: 2\n"
     ]
    },
    {
     "name": "stderr",
     "output_type": "stream",
     "text": [
      "/glade/work/zhonghua/code_uhws_ncc_private/3_revision/5_event_analysis_min/util.py:95: SettingWithCopyWarning: \n",
      "A value is trying to be set on a copy of a slice from a DataFrame\n",
      "\n",
      "See the caveats in the documentation: https://pandas.pydata.org/pandas-docs/stable/user_guide/indexing.html#returning-a-view-versus-a-copy\n",
      "  df_with_quantile[\"HW\"][df_with_quantile[\"mean\"]> df_with_quantile[\"quant\"]] = 0\n"
     ]
    },
    {
     "name": "stdout",
     "output_type": "stream",
     "text": [
      "It took 31.103697538375854 to deal with 002_min for year 2006\n",
      "The quantile is: None\n",
      "The duration threshold is: 2\n"
     ]
    },
    {
     "name": "stderr",
     "output_type": "stream",
     "text": [
      "/glade/work/zhonghua/code_uhws_ncc_private/3_revision/5_event_analysis_min/util.py:95: SettingWithCopyWarning: \n",
      "A value is trying to be set on a copy of a slice from a DataFrame\n",
      "\n",
      "See the caveats in the documentation: https://pandas.pydata.org/pandas-docs/stable/user_guide/indexing.html#returning-a-view-versus-a-copy\n",
      "  df_with_quantile[\"HW\"][df_with_quantile[\"mean\"]> df_with_quantile[\"quant\"]] = 0\n"
     ]
    },
    {
     "name": "stdout",
     "output_type": "stream",
     "text": [
      "It took 22.734008312225342 to deal with 002_min for year 2061\n",
      "\n",
      "\n",
      "start member: 003_min\n",
      "The quantile is: 0.98\n",
      "The duration threshold is: 2\n"
     ]
    },
    {
     "name": "stderr",
     "output_type": "stream",
     "text": [
      "/glade/work/zhonghua/code_uhws_ncc_private/3_revision/5_event_analysis_min/util.py:95: SettingWithCopyWarning: \n",
      "A value is trying to be set on a copy of a slice from a DataFrame\n",
      "\n",
      "See the caveats in the documentation: https://pandas.pydata.org/pandas-docs/stable/user_guide/indexing.html#returning-a-view-versus-a-copy\n",
      "  df_with_quantile[\"HW\"][df_with_quantile[\"mean\"]> df_with_quantile[\"quant\"]] = 0\n"
     ]
    },
    {
     "name": "stdout",
     "output_type": "stream",
     "text": [
      "It took 29.838432550430298 to deal with 003_min for year 2006\n",
      "The quantile is: None\n",
      "The duration threshold is: 2\n"
     ]
    },
    {
     "name": "stderr",
     "output_type": "stream",
     "text": [
      "/glade/work/zhonghua/code_uhws_ncc_private/3_revision/5_event_analysis_min/util.py:95: SettingWithCopyWarning: \n",
      "A value is trying to be set on a copy of a slice from a DataFrame\n",
      "\n",
      "See the caveats in the documentation: https://pandas.pydata.org/pandas-docs/stable/user_guide/indexing.html#returning-a-view-versus-a-copy\n",
      "  df_with_quantile[\"HW\"][df_with_quantile[\"mean\"]> df_with_quantile[\"quant\"]] = 0\n"
     ]
    },
    {
     "name": "stdout",
     "output_type": "stream",
     "text": [
      "It took 22.805519580841064 to deal with 003_min for year 2061\n",
      "\n",
      "\n",
      "start member: 004_min\n",
      "The quantile is: 0.98\n",
      "The duration threshold is: 2\n"
     ]
    },
    {
     "name": "stderr",
     "output_type": "stream",
     "text": [
      "/glade/work/zhonghua/code_uhws_ncc_private/3_revision/5_event_analysis_min/util.py:95: SettingWithCopyWarning: \n",
      "A value is trying to be set on a copy of a slice from a DataFrame\n",
      "\n",
      "See the caveats in the documentation: https://pandas.pydata.org/pandas-docs/stable/user_guide/indexing.html#returning-a-view-versus-a-copy\n",
      "  df_with_quantile[\"HW\"][df_with_quantile[\"mean\"]> df_with_quantile[\"quant\"]] = 0\n"
     ]
    },
    {
     "name": "stdout",
     "output_type": "stream",
     "text": [
      "It took 29.779642820358276 to deal with 004_min for year 2006\n",
      "The quantile is: None\n",
      "The duration threshold is: 2\n"
     ]
    },
    {
     "name": "stderr",
     "output_type": "stream",
     "text": [
      "/glade/work/zhonghua/code_uhws_ncc_private/3_revision/5_event_analysis_min/util.py:95: SettingWithCopyWarning: \n",
      "A value is trying to be set on a copy of a slice from a DataFrame\n",
      "\n",
      "See the caveats in the documentation: https://pandas.pydata.org/pandas-docs/stable/user_guide/indexing.html#returning-a-view-versus-a-copy\n",
      "  df_with_quantile[\"HW\"][df_with_quantile[\"mean\"]> df_with_quantile[\"quant\"]] = 0\n"
     ]
    },
    {
     "name": "stdout",
     "output_type": "stream",
     "text": [
      "It took 22.85704493522644 to deal with 004_min for year 2061\n",
      "\n",
      "\n",
      "start member: 005_min\n",
      "The quantile is: 0.98\n",
      "The duration threshold is: 2\n"
     ]
    },
    {
     "name": "stderr",
     "output_type": "stream",
     "text": [
      "/glade/work/zhonghua/code_uhws_ncc_private/3_revision/5_event_analysis_min/util.py:95: SettingWithCopyWarning: \n",
      "A value is trying to be set on a copy of a slice from a DataFrame\n",
      "\n",
      "See the caveats in the documentation: https://pandas.pydata.org/pandas-docs/stable/user_guide/indexing.html#returning-a-view-versus-a-copy\n",
      "  df_with_quantile[\"HW\"][df_with_quantile[\"mean\"]> df_with_quantile[\"quant\"]] = 0\n"
     ]
    },
    {
     "name": "stdout",
     "output_type": "stream",
     "text": [
      "It took 29.83761477470398 to deal with 005_min for year 2006\n",
      "The quantile is: None\n",
      "The duration threshold is: 2\n"
     ]
    },
    {
     "name": "stderr",
     "output_type": "stream",
     "text": [
      "/glade/work/zhonghua/code_uhws_ncc_private/3_revision/5_event_analysis_min/util.py:95: SettingWithCopyWarning: \n",
      "A value is trying to be set on a copy of a slice from a DataFrame\n",
      "\n",
      "See the caveats in the documentation: https://pandas.pydata.org/pandas-docs/stable/user_guide/indexing.html#returning-a-view-versus-a-copy\n",
      "  df_with_quantile[\"HW\"][df_with_quantile[\"mean\"]> df_with_quantile[\"quant\"]] = 0\n"
     ]
    },
    {
     "name": "stdout",
     "output_type": "stream",
     "text": [
      "It took 22.74951434135437 to deal with 005_min for year 2061\n",
      "\n",
      "\n",
      "start member: 006_min\n",
      "The quantile is: 0.98\n",
      "The duration threshold is: 2\n"
     ]
    },
    {
     "name": "stderr",
     "output_type": "stream",
     "text": [
      "/glade/work/zhonghua/code_uhws_ncc_private/3_revision/5_event_analysis_min/util.py:95: SettingWithCopyWarning: \n",
      "A value is trying to be set on a copy of a slice from a DataFrame\n",
      "\n",
      "See the caveats in the documentation: https://pandas.pydata.org/pandas-docs/stable/user_guide/indexing.html#returning-a-view-versus-a-copy\n",
      "  df_with_quantile[\"HW\"][df_with_quantile[\"mean\"]> df_with_quantile[\"quant\"]] = 0\n"
     ]
    },
    {
     "name": "stdout",
     "output_type": "stream",
     "text": [
      "It took 29.759875535964966 to deal with 006_min for year 2006\n",
      "The quantile is: None\n",
      "The duration threshold is: 2\n"
     ]
    },
    {
     "name": "stderr",
     "output_type": "stream",
     "text": [
      "/glade/work/zhonghua/code_uhws_ncc_private/3_revision/5_event_analysis_min/util.py:95: SettingWithCopyWarning: \n",
      "A value is trying to be set on a copy of a slice from a DataFrame\n",
      "\n",
      "See the caveats in the documentation: https://pandas.pydata.org/pandas-docs/stable/user_guide/indexing.html#returning-a-view-versus-a-copy\n",
      "  df_with_quantile[\"HW\"][df_with_quantile[\"mean\"]> df_with_quantile[\"quant\"]] = 0\n"
     ]
    },
    {
     "name": "stdout",
     "output_type": "stream",
     "text": [
      "It took 22.633620023727417 to deal with 006_min for year 2061\n",
      "\n",
      "\n",
      "start member: 007_min\n",
      "The quantile is: 0.98\n",
      "The duration threshold is: 2\n"
     ]
    },
    {
     "name": "stderr",
     "output_type": "stream",
     "text": [
      "/glade/work/zhonghua/code_uhws_ncc_private/3_revision/5_event_analysis_min/util.py:95: SettingWithCopyWarning: \n",
      "A value is trying to be set on a copy of a slice from a DataFrame\n",
      "\n",
      "See the caveats in the documentation: https://pandas.pydata.org/pandas-docs/stable/user_guide/indexing.html#returning-a-view-versus-a-copy\n",
      "  df_with_quantile[\"HW\"][df_with_quantile[\"mean\"]> df_with_quantile[\"quant\"]] = 0\n"
     ]
    },
    {
     "name": "stdout",
     "output_type": "stream",
     "text": [
      "It took 29.73257088661194 to deal with 007_min for year 2006\n",
      "The quantile is: None\n",
      "The duration threshold is: 2\n"
     ]
    },
    {
     "name": "stderr",
     "output_type": "stream",
     "text": [
      "/glade/work/zhonghua/code_uhws_ncc_private/3_revision/5_event_analysis_min/util.py:95: SettingWithCopyWarning: \n",
      "A value is trying to be set on a copy of a slice from a DataFrame\n",
      "\n",
      "See the caveats in the documentation: https://pandas.pydata.org/pandas-docs/stable/user_guide/indexing.html#returning-a-view-versus-a-copy\n",
      "  df_with_quantile[\"HW\"][df_with_quantile[\"mean\"]> df_with_quantile[\"quant\"]] = 0\n"
     ]
    },
    {
     "name": "stdout",
     "output_type": "stream",
     "text": [
      "It took 22.662106037139893 to deal with 007_min for year 2061\n",
      "\n",
      "\n",
      "start member: 008_min\n",
      "The quantile is: 0.98\n",
      "The duration threshold is: 2\n"
     ]
    },
    {
     "name": "stderr",
     "output_type": "stream",
     "text": [
      "/glade/work/zhonghua/code_uhws_ncc_private/3_revision/5_event_analysis_min/util.py:95: SettingWithCopyWarning: \n",
      "A value is trying to be set on a copy of a slice from a DataFrame\n",
      "\n",
      "See the caveats in the documentation: https://pandas.pydata.org/pandas-docs/stable/user_guide/indexing.html#returning-a-view-versus-a-copy\n",
      "  df_with_quantile[\"HW\"][df_with_quantile[\"mean\"]> df_with_quantile[\"quant\"]] = 0\n"
     ]
    },
    {
     "name": "stdout",
     "output_type": "stream",
     "text": [
      "It took 30.28868055343628 to deal with 008_min for year 2006\n",
      "The quantile is: None\n",
      "The duration threshold is: 2\n"
     ]
    },
    {
     "name": "stderr",
     "output_type": "stream",
     "text": [
      "/glade/work/zhonghua/code_uhws_ncc_private/3_revision/5_event_analysis_min/util.py:95: SettingWithCopyWarning: \n",
      "A value is trying to be set on a copy of a slice from a DataFrame\n",
      "\n",
      "See the caveats in the documentation: https://pandas.pydata.org/pandas-docs/stable/user_guide/indexing.html#returning-a-view-versus-a-copy\n",
      "  df_with_quantile[\"HW\"][df_with_quantile[\"mean\"]> df_with_quantile[\"quant\"]] = 0\n"
     ]
    },
    {
     "name": "stdout",
     "output_type": "stream",
     "text": [
      "It took 22.813082218170166 to deal with 008_min for year 2061\n",
      "\n",
      "\n",
      "start member: 009_min\n",
      "The quantile is: 0.98\n",
      "The duration threshold is: 2\n"
     ]
    },
    {
     "name": "stderr",
     "output_type": "stream",
     "text": [
      "/glade/work/zhonghua/code_uhws_ncc_private/3_revision/5_event_analysis_min/util.py:95: SettingWithCopyWarning: \n",
      "A value is trying to be set on a copy of a slice from a DataFrame\n",
      "\n",
      "See the caveats in the documentation: https://pandas.pydata.org/pandas-docs/stable/user_guide/indexing.html#returning-a-view-versus-a-copy\n",
      "  df_with_quantile[\"HW\"][df_with_quantile[\"mean\"]> df_with_quantile[\"quant\"]] = 0\n"
     ]
    },
    {
     "name": "stdout",
     "output_type": "stream",
     "text": [
      "It took 29.97463035583496 to deal with 009_min for year 2006\n",
      "The quantile is: None\n",
      "The duration threshold is: 2\n"
     ]
    },
    {
     "name": "stderr",
     "output_type": "stream",
     "text": [
      "/glade/work/zhonghua/code_uhws_ncc_private/3_revision/5_event_analysis_min/util.py:95: SettingWithCopyWarning: \n",
      "A value is trying to be set on a copy of a slice from a DataFrame\n",
      "\n",
      "See the caveats in the documentation: https://pandas.pydata.org/pandas-docs/stable/user_guide/indexing.html#returning-a-view-versus-a-copy\n",
      "  df_with_quantile[\"HW\"][df_with_quantile[\"mean\"]> df_with_quantile[\"quant\"]] = 0\n"
     ]
    },
    {
     "name": "stdout",
     "output_type": "stream",
     "text": [
      "It took 22.624425888061523 to deal with 009_min for year 2061\n",
      "\n",
      "\n",
      "start member: 010_min\n",
      "The quantile is: 0.98\n",
      "The duration threshold is: 2\n"
     ]
    },
    {
     "name": "stderr",
     "output_type": "stream",
     "text": [
      "/glade/work/zhonghua/code_uhws_ncc_private/3_revision/5_event_analysis_min/util.py:95: SettingWithCopyWarning: \n",
      "A value is trying to be set on a copy of a slice from a DataFrame\n",
      "\n",
      "See the caveats in the documentation: https://pandas.pydata.org/pandas-docs/stable/user_guide/indexing.html#returning-a-view-versus-a-copy\n",
      "  df_with_quantile[\"HW\"][df_with_quantile[\"mean\"]> df_with_quantile[\"quant\"]] = 0\n"
     ]
    },
    {
     "name": "stdout",
     "output_type": "stream",
     "text": [
      "It took 29.85988688468933 to deal with 010_min for year 2006\n",
      "The quantile is: None\n",
      "The duration threshold is: 2\n"
     ]
    },
    {
     "name": "stderr",
     "output_type": "stream",
     "text": [
      "/glade/work/zhonghua/code_uhws_ncc_private/3_revision/5_event_analysis_min/util.py:95: SettingWithCopyWarning: \n",
      "A value is trying to be set on a copy of a slice from a DataFrame\n",
      "\n",
      "See the caveats in the documentation: https://pandas.pydata.org/pandas-docs/stable/user_guide/indexing.html#returning-a-view-versus-a-copy\n",
      "  df_with_quantile[\"HW\"][df_with_quantile[\"mean\"]> df_with_quantile[\"quant\"]] = 0\n"
     ]
    },
    {
     "name": "stdout",
     "output_type": "stream",
     "text": [
      "It took 22.88112711906433 to deal with 010_min for year 2061\n",
      "\n",
      "\n",
      "start member: 011_min\n",
      "The quantile is: 0.98\n",
      "The duration threshold is: 2\n"
     ]
    },
    {
     "name": "stderr",
     "output_type": "stream",
     "text": [
      "/glade/work/zhonghua/code_uhws_ncc_private/3_revision/5_event_analysis_min/util.py:95: SettingWithCopyWarning: \n",
      "A value is trying to be set on a copy of a slice from a DataFrame\n",
      "\n",
      "See the caveats in the documentation: https://pandas.pydata.org/pandas-docs/stable/user_guide/indexing.html#returning-a-view-versus-a-copy\n",
      "  df_with_quantile[\"HW\"][df_with_quantile[\"mean\"]> df_with_quantile[\"quant\"]] = 0\n"
     ]
    },
    {
     "name": "stdout",
     "output_type": "stream",
     "text": [
      "It took 29.785202503204346 to deal with 011_min for year 2006\n",
      "The quantile is: None\n",
      "The duration threshold is: 2\n"
     ]
    },
    {
     "name": "stderr",
     "output_type": "stream",
     "text": [
      "/glade/work/zhonghua/code_uhws_ncc_private/3_revision/5_event_analysis_min/util.py:95: SettingWithCopyWarning: \n",
      "A value is trying to be set on a copy of a slice from a DataFrame\n",
      "\n",
      "See the caveats in the documentation: https://pandas.pydata.org/pandas-docs/stable/user_guide/indexing.html#returning-a-view-versus-a-copy\n",
      "  df_with_quantile[\"HW\"][df_with_quantile[\"mean\"]> df_with_quantile[\"quant\"]] = 0\n"
     ]
    },
    {
     "name": "stdout",
     "output_type": "stream",
     "text": [
      "It took 22.87983536720276 to deal with 011_min for year 2061\n",
      "\n",
      "\n",
      "start member: 012_min\n",
      "The quantile is: 0.98\n",
      "The duration threshold is: 2\n"
     ]
    },
    {
     "name": "stderr",
     "output_type": "stream",
     "text": [
      "/glade/work/zhonghua/code_uhws_ncc_private/3_revision/5_event_analysis_min/util.py:95: SettingWithCopyWarning: \n",
      "A value is trying to be set on a copy of a slice from a DataFrame\n",
      "\n",
      "See the caveats in the documentation: https://pandas.pydata.org/pandas-docs/stable/user_guide/indexing.html#returning-a-view-versus-a-copy\n",
      "  df_with_quantile[\"HW\"][df_with_quantile[\"mean\"]> df_with_quantile[\"quant\"]] = 0\n"
     ]
    },
    {
     "name": "stdout",
     "output_type": "stream",
     "text": [
      "It took 29.79739546775818 to deal with 012_min for year 2006\n",
      "The quantile is: None\n",
      "The duration threshold is: 2\n"
     ]
    },
    {
     "name": "stderr",
     "output_type": "stream",
     "text": [
      "/glade/work/zhonghua/code_uhws_ncc_private/3_revision/5_event_analysis_min/util.py:95: SettingWithCopyWarning: \n",
      "A value is trying to be set on a copy of a slice from a DataFrame\n",
      "\n",
      "See the caveats in the documentation: https://pandas.pydata.org/pandas-docs/stable/user_guide/indexing.html#returning-a-view-versus-a-copy\n",
      "  df_with_quantile[\"HW\"][df_with_quantile[\"mean\"]> df_with_quantile[\"quant\"]] = 0\n"
     ]
    },
    {
     "name": "stdout",
     "output_type": "stream",
     "text": [
      "It took 22.638557195663452 to deal with 012_min for year 2061\n",
      "\n",
      "\n",
      "start member: 013_min\n",
      "The quantile is: 0.98\n",
      "The duration threshold is: 2\n"
     ]
    },
    {
     "name": "stderr",
     "output_type": "stream",
     "text": [
      "/glade/work/zhonghua/code_uhws_ncc_private/3_revision/5_event_analysis_min/util.py:95: SettingWithCopyWarning: \n",
      "A value is trying to be set on a copy of a slice from a DataFrame\n",
      "\n",
      "See the caveats in the documentation: https://pandas.pydata.org/pandas-docs/stable/user_guide/indexing.html#returning-a-view-versus-a-copy\n",
      "  df_with_quantile[\"HW\"][df_with_quantile[\"mean\"]> df_with_quantile[\"quant\"]] = 0\n"
     ]
    },
    {
     "name": "stdout",
     "output_type": "stream",
     "text": [
      "It took 29.825976371765137 to deal with 013_min for year 2006\n",
      "The quantile is: None\n",
      "The duration threshold is: 2\n"
     ]
    },
    {
     "name": "stderr",
     "output_type": "stream",
     "text": [
      "/glade/work/zhonghua/code_uhws_ncc_private/3_revision/5_event_analysis_min/util.py:95: SettingWithCopyWarning: \n",
      "A value is trying to be set on a copy of a slice from a DataFrame\n",
      "\n",
      "See the caveats in the documentation: https://pandas.pydata.org/pandas-docs/stable/user_guide/indexing.html#returning-a-view-versus-a-copy\n",
      "  df_with_quantile[\"HW\"][df_with_quantile[\"mean\"]> df_with_quantile[\"quant\"]] = 0\n"
     ]
    },
    {
     "name": "stdout",
     "output_type": "stream",
     "text": [
      "It took 22.67639923095703 to deal with 013_min for year 2061\n",
      "\n",
      "\n",
      "start member: 014_min\n",
      "The quantile is: 0.98\n",
      "The duration threshold is: 2\n"
     ]
    },
    {
     "name": "stderr",
     "output_type": "stream",
     "text": [
      "/glade/work/zhonghua/code_uhws_ncc_private/3_revision/5_event_analysis_min/util.py:95: SettingWithCopyWarning: \n",
      "A value is trying to be set on a copy of a slice from a DataFrame\n",
      "\n",
      "See the caveats in the documentation: https://pandas.pydata.org/pandas-docs/stable/user_guide/indexing.html#returning-a-view-versus-a-copy\n",
      "  df_with_quantile[\"HW\"][df_with_quantile[\"mean\"]> df_with_quantile[\"quant\"]] = 0\n"
     ]
    },
    {
     "name": "stdout",
     "output_type": "stream",
     "text": [
      "It took 29.80643129348755 to deal with 014_min for year 2006\n",
      "The quantile is: None\n",
      "The duration threshold is: 2\n"
     ]
    },
    {
     "name": "stderr",
     "output_type": "stream",
     "text": [
      "/glade/work/zhonghua/code_uhws_ncc_private/3_revision/5_event_analysis_min/util.py:95: SettingWithCopyWarning: \n",
      "A value is trying to be set on a copy of a slice from a DataFrame\n",
      "\n",
      "See the caveats in the documentation: https://pandas.pydata.org/pandas-docs/stable/user_guide/indexing.html#returning-a-view-versus-a-copy\n",
      "  df_with_quantile[\"HW\"][df_with_quantile[\"mean\"]> df_with_quantile[\"quant\"]] = 0\n"
     ]
    },
    {
     "name": "stdout",
     "output_type": "stream",
     "text": [
      "It took 22.8189754486084 to deal with 014_min for year 2061\n",
      "\n",
      "\n",
      "start member: 015_min\n",
      "The quantile is: 0.98\n",
      "The duration threshold is: 2\n"
     ]
    },
    {
     "name": "stderr",
     "output_type": "stream",
     "text": [
      "/glade/work/zhonghua/code_uhws_ncc_private/3_revision/5_event_analysis_min/util.py:95: SettingWithCopyWarning: \n",
      "A value is trying to be set on a copy of a slice from a DataFrame\n",
      "\n",
      "See the caveats in the documentation: https://pandas.pydata.org/pandas-docs/stable/user_guide/indexing.html#returning-a-view-versus-a-copy\n",
      "  df_with_quantile[\"HW\"][df_with_quantile[\"mean\"]> df_with_quantile[\"quant\"]] = 0\n"
     ]
    },
    {
     "name": "stdout",
     "output_type": "stream",
     "text": [
      "It took 29.824695348739624 to deal with 015_min for year 2006\n",
      "The quantile is: None\n",
      "The duration threshold is: 2\n"
     ]
    },
    {
     "name": "stderr",
     "output_type": "stream",
     "text": [
      "/glade/work/zhonghua/code_uhws_ncc_private/3_revision/5_event_analysis_min/util.py:95: SettingWithCopyWarning: \n",
      "A value is trying to be set on a copy of a slice from a DataFrame\n",
      "\n",
      "See the caveats in the documentation: https://pandas.pydata.org/pandas-docs/stable/user_guide/indexing.html#returning-a-view-versus-a-copy\n",
      "  df_with_quantile[\"HW\"][df_with_quantile[\"mean\"]> df_with_quantile[\"quant\"]] = 0\n"
     ]
    },
    {
     "name": "stdout",
     "output_type": "stream",
     "text": [
      "It took 22.70967698097229 to deal with 015_min for year 2061\n",
      "\n",
      "\n",
      "start member: 016_min\n",
      "The quantile is: 0.98\n",
      "The duration threshold is: 2\n"
     ]
    },
    {
     "name": "stderr",
     "output_type": "stream",
     "text": [
      "/glade/work/zhonghua/code_uhws_ncc_private/3_revision/5_event_analysis_min/util.py:95: SettingWithCopyWarning: \n",
      "A value is trying to be set on a copy of a slice from a DataFrame\n",
      "\n",
      "See the caveats in the documentation: https://pandas.pydata.org/pandas-docs/stable/user_guide/indexing.html#returning-a-view-versus-a-copy\n",
      "  df_with_quantile[\"HW\"][df_with_quantile[\"mean\"]> df_with_quantile[\"quant\"]] = 0\n"
     ]
    },
    {
     "name": "stdout",
     "output_type": "stream",
     "text": [
      "It took 29.879425525665283 to deal with 016_min for year 2006\n",
      "The quantile is: None\n",
      "The duration threshold is: 2\n"
     ]
    },
    {
     "name": "stderr",
     "output_type": "stream",
     "text": [
      "/glade/work/zhonghua/code_uhws_ncc_private/3_revision/5_event_analysis_min/util.py:95: SettingWithCopyWarning: \n",
      "A value is trying to be set on a copy of a slice from a DataFrame\n",
      "\n",
      "See the caveats in the documentation: https://pandas.pydata.org/pandas-docs/stable/user_guide/indexing.html#returning-a-view-versus-a-copy\n",
      "  df_with_quantile[\"HW\"][df_with_quantile[\"mean\"]> df_with_quantile[\"quant\"]] = 0\n"
     ]
    },
    {
     "name": "stdout",
     "output_type": "stream",
     "text": [
      "It took 22.811198472976685 to deal with 016_min for year 2061\n",
      "\n",
      "\n",
      "start member: 017_min\n",
      "The quantile is: 0.98\n",
      "The duration threshold is: 2\n"
     ]
    },
    {
     "name": "stderr",
     "output_type": "stream",
     "text": [
      "/glade/work/zhonghua/code_uhws_ncc_private/3_revision/5_event_analysis_min/util.py:95: SettingWithCopyWarning: \n",
      "A value is trying to be set on a copy of a slice from a DataFrame\n",
      "\n",
      "See the caveats in the documentation: https://pandas.pydata.org/pandas-docs/stable/user_guide/indexing.html#returning-a-view-versus-a-copy\n",
      "  df_with_quantile[\"HW\"][df_with_quantile[\"mean\"]> df_with_quantile[\"quant\"]] = 0\n"
     ]
    },
    {
     "name": "stdout",
     "output_type": "stream",
     "text": [
      "It took 29.791203498840332 to deal with 017_min for year 2006\n",
      "The quantile is: None\n",
      "The duration threshold is: 2\n"
     ]
    },
    {
     "name": "stderr",
     "output_type": "stream",
     "text": [
      "/glade/work/zhonghua/code_uhws_ncc_private/3_revision/5_event_analysis_min/util.py:95: SettingWithCopyWarning: \n",
      "A value is trying to be set on a copy of a slice from a DataFrame\n",
      "\n",
      "See the caveats in the documentation: https://pandas.pydata.org/pandas-docs/stable/user_guide/indexing.html#returning-a-view-versus-a-copy\n",
      "  df_with_quantile[\"HW\"][df_with_quantile[\"mean\"]> df_with_quantile[\"quant\"]] = 0\n"
     ]
    },
    {
     "name": "stdout",
     "output_type": "stream",
     "text": [
      "It took 22.805516004562378 to deal with 017_min for year 2061\n",
      "\n",
      "\n",
      "start member: 018_min\n",
      "The quantile is: 0.98\n",
      "The duration threshold is: 2\n"
     ]
    },
    {
     "name": "stderr",
     "output_type": "stream",
     "text": [
      "/glade/work/zhonghua/code_uhws_ncc_private/3_revision/5_event_analysis_min/util.py:95: SettingWithCopyWarning: \n",
      "A value is trying to be set on a copy of a slice from a DataFrame\n",
      "\n",
      "See the caveats in the documentation: https://pandas.pydata.org/pandas-docs/stable/user_guide/indexing.html#returning-a-view-versus-a-copy\n",
      "  df_with_quantile[\"HW\"][df_with_quantile[\"mean\"]> df_with_quantile[\"quant\"]] = 0\n"
     ]
    },
    {
     "name": "stdout",
     "output_type": "stream",
     "text": [
      "It took 29.840264797210693 to deal with 018_min for year 2006\n",
      "The quantile is: None\n",
      "The duration threshold is: 2\n"
     ]
    },
    {
     "name": "stderr",
     "output_type": "stream",
     "text": [
      "/glade/work/zhonghua/code_uhws_ncc_private/3_revision/5_event_analysis_min/util.py:95: SettingWithCopyWarning: \n",
      "A value is trying to be set on a copy of a slice from a DataFrame\n",
      "\n",
      "See the caveats in the documentation: https://pandas.pydata.org/pandas-docs/stable/user_guide/indexing.html#returning-a-view-versus-a-copy\n",
      "  df_with_quantile[\"HW\"][df_with_quantile[\"mean\"]> df_with_quantile[\"quant\"]] = 0\n"
     ]
    },
    {
     "name": "stdout",
     "output_type": "stream",
     "text": [
      "It took 22.5623197555542 to deal with 018_min for year 2061\n",
      "\n",
      "\n",
      "start member: 019_min\n",
      "The quantile is: 0.98\n",
      "The duration threshold is: 2\n"
     ]
    },
    {
     "name": "stderr",
     "output_type": "stream",
     "text": [
      "/glade/work/zhonghua/code_uhws_ncc_private/3_revision/5_event_analysis_min/util.py:95: SettingWithCopyWarning: \n",
      "A value is trying to be set on a copy of a slice from a DataFrame\n",
      "\n",
      "See the caveats in the documentation: https://pandas.pydata.org/pandas-docs/stable/user_guide/indexing.html#returning-a-view-versus-a-copy\n",
      "  df_with_quantile[\"HW\"][df_with_quantile[\"mean\"]> df_with_quantile[\"quant\"]] = 0\n"
     ]
    },
    {
     "name": "stdout",
     "output_type": "stream",
     "text": [
      "It took 29.847267866134644 to deal with 019_min for year 2006\n",
      "The quantile is: None\n",
      "The duration threshold is: 2\n"
     ]
    },
    {
     "name": "stderr",
     "output_type": "stream",
     "text": [
      "/glade/work/zhonghua/code_uhws_ncc_private/3_revision/5_event_analysis_min/util.py:95: SettingWithCopyWarning: \n",
      "A value is trying to be set on a copy of a slice from a DataFrame\n",
      "\n",
      "See the caveats in the documentation: https://pandas.pydata.org/pandas-docs/stable/user_guide/indexing.html#returning-a-view-versus-a-copy\n",
      "  df_with_quantile[\"HW\"][df_with_quantile[\"mean\"]> df_with_quantile[\"quant\"]] = 0\n"
     ]
    },
    {
     "name": "stdout",
     "output_type": "stream",
     "text": [
      "It took 22.730667114257812 to deal with 019_min for year 2061\n",
      "\n",
      "\n",
      "start member: 020_min\n",
      "The quantile is: 0.98\n",
      "The duration threshold is: 2\n"
     ]
    },
    {
     "name": "stderr",
     "output_type": "stream",
     "text": [
      "/glade/work/zhonghua/code_uhws_ncc_private/3_revision/5_event_analysis_min/util.py:95: SettingWithCopyWarning: \n",
      "A value is trying to be set on a copy of a slice from a DataFrame\n",
      "\n",
      "See the caveats in the documentation: https://pandas.pydata.org/pandas-docs/stable/user_guide/indexing.html#returning-a-view-versus-a-copy\n",
      "  df_with_quantile[\"HW\"][df_with_quantile[\"mean\"]> df_with_quantile[\"quant\"]] = 0\n"
     ]
    },
    {
     "name": "stdout",
     "output_type": "stream",
     "text": [
      "It took 29.86361837387085 to deal with 020_min for year 2006\n",
      "The quantile is: None\n",
      "The duration threshold is: 2\n"
     ]
    },
    {
     "name": "stderr",
     "output_type": "stream",
     "text": [
      "/glade/work/zhonghua/code_uhws_ncc_private/3_revision/5_event_analysis_min/util.py:95: SettingWithCopyWarning: \n",
      "A value is trying to be set on a copy of a slice from a DataFrame\n",
      "\n",
      "See the caveats in the documentation: https://pandas.pydata.org/pandas-docs/stable/user_guide/indexing.html#returning-a-view-versus-a-copy\n",
      "  df_with_quantile[\"HW\"][df_with_quantile[\"mean\"]> df_with_quantile[\"quant\"]] = 0\n"
     ]
    },
    {
     "name": "stdout",
     "output_type": "stream",
     "text": [
      "It took 22.69454550743103 to deal with 020_min for year 2061\n",
      "\n",
      "\n",
      "start member: 021_min\n",
      "The quantile is: 0.98\n",
      "The duration threshold is: 2\n"
     ]
    },
    {
     "name": "stderr",
     "output_type": "stream",
     "text": [
      "/glade/work/zhonghua/code_uhws_ncc_private/3_revision/5_event_analysis_min/util.py:95: SettingWithCopyWarning: \n",
      "A value is trying to be set on a copy of a slice from a DataFrame\n",
      "\n",
      "See the caveats in the documentation: https://pandas.pydata.org/pandas-docs/stable/user_guide/indexing.html#returning-a-view-versus-a-copy\n",
      "  df_with_quantile[\"HW\"][df_with_quantile[\"mean\"]> df_with_quantile[\"quant\"]] = 0\n"
     ]
    },
    {
     "name": "stdout",
     "output_type": "stream",
     "text": [
      "It took 29.811374187469482 to deal with 021_min for year 2006\n",
      "The quantile is: None\n",
      "The duration threshold is: 2\n"
     ]
    },
    {
     "name": "stderr",
     "output_type": "stream",
     "text": [
      "/glade/work/zhonghua/code_uhws_ncc_private/3_revision/5_event_analysis_min/util.py:95: SettingWithCopyWarning: \n",
      "A value is trying to be set on a copy of a slice from a DataFrame\n",
      "\n",
      "See the caveats in the documentation: https://pandas.pydata.org/pandas-docs/stable/user_guide/indexing.html#returning-a-view-versus-a-copy\n",
      "  df_with_quantile[\"HW\"][df_with_quantile[\"mean\"]> df_with_quantile[\"quant\"]] = 0\n"
     ]
    },
    {
     "name": "stdout",
     "output_type": "stream",
     "text": [
      "It took 22.828509092330933 to deal with 021_min for year 2061\n",
      "\n",
      "\n",
      "start member: 022_min\n",
      "The quantile is: 0.98\n",
      "The duration threshold is: 2\n"
     ]
    },
    {
     "name": "stderr",
     "output_type": "stream",
     "text": [
      "/glade/work/zhonghua/code_uhws_ncc_private/3_revision/5_event_analysis_min/util.py:95: SettingWithCopyWarning: \n",
      "A value is trying to be set on a copy of a slice from a DataFrame\n",
      "\n",
      "See the caveats in the documentation: https://pandas.pydata.org/pandas-docs/stable/user_guide/indexing.html#returning-a-view-versus-a-copy\n",
      "  df_with_quantile[\"HW\"][df_with_quantile[\"mean\"]> df_with_quantile[\"quant\"]] = 0\n"
     ]
    },
    {
     "name": "stdout",
     "output_type": "stream",
     "text": [
      "It took 30.010291576385498 to deal with 022_min for year 2006\n",
      "The quantile is: None\n",
      "The duration threshold is: 2\n"
     ]
    },
    {
     "name": "stderr",
     "output_type": "stream",
     "text": [
      "/glade/work/zhonghua/code_uhws_ncc_private/3_revision/5_event_analysis_min/util.py:95: SettingWithCopyWarning: \n",
      "A value is trying to be set on a copy of a slice from a DataFrame\n",
      "\n",
      "See the caveats in the documentation: https://pandas.pydata.org/pandas-docs/stable/user_guide/indexing.html#returning-a-view-versus-a-copy\n",
      "  df_with_quantile[\"HW\"][df_with_quantile[\"mean\"]> df_with_quantile[\"quant\"]] = 0\n"
     ]
    },
    {
     "name": "stdout",
     "output_type": "stream",
     "text": [
      "It took 22.914660215377808 to deal with 022_min for year 2061\n",
      "\n",
      "\n",
      "start member: 023_min\n",
      "The quantile is: 0.98\n",
      "The duration threshold is: 2\n"
     ]
    },
    {
     "name": "stderr",
     "output_type": "stream",
     "text": [
      "/glade/work/zhonghua/code_uhws_ncc_private/3_revision/5_event_analysis_min/util.py:95: SettingWithCopyWarning: \n",
      "A value is trying to be set on a copy of a slice from a DataFrame\n",
      "\n",
      "See the caveats in the documentation: https://pandas.pydata.org/pandas-docs/stable/user_guide/indexing.html#returning-a-view-versus-a-copy\n",
      "  df_with_quantile[\"HW\"][df_with_quantile[\"mean\"]> df_with_quantile[\"quant\"]] = 0\n"
     ]
    },
    {
     "name": "stdout",
     "output_type": "stream",
     "text": [
      "It took 29.970170974731445 to deal with 023_min for year 2006\n",
      "The quantile is: None\n",
      "The duration threshold is: 2\n"
     ]
    },
    {
     "name": "stderr",
     "output_type": "stream",
     "text": [
      "/glade/work/zhonghua/code_uhws_ncc_private/3_revision/5_event_analysis_min/util.py:95: SettingWithCopyWarning: \n",
      "A value is trying to be set on a copy of a slice from a DataFrame\n",
      "\n",
      "See the caveats in the documentation: https://pandas.pydata.org/pandas-docs/stable/user_guide/indexing.html#returning-a-view-versus-a-copy\n",
      "  df_with_quantile[\"HW\"][df_with_quantile[\"mean\"]> df_with_quantile[\"quant\"]] = 0\n"
     ]
    },
    {
     "name": "stdout",
     "output_type": "stream",
     "text": [
      "It took 22.86801552772522 to deal with 023_min for year 2061\n",
      "\n",
      "\n",
      "start member: 024_min\n",
      "The quantile is: 0.98\n",
      "The duration threshold is: 2\n"
     ]
    },
    {
     "name": "stderr",
     "output_type": "stream",
     "text": [
      "/glade/work/zhonghua/code_uhws_ncc_private/3_revision/5_event_analysis_min/util.py:95: SettingWithCopyWarning: \n",
      "A value is trying to be set on a copy of a slice from a DataFrame\n",
      "\n",
      "See the caveats in the documentation: https://pandas.pydata.org/pandas-docs/stable/user_guide/indexing.html#returning-a-view-versus-a-copy\n",
      "  df_with_quantile[\"HW\"][df_with_quantile[\"mean\"]> df_with_quantile[\"quant\"]] = 0\n"
     ]
    },
    {
     "name": "stdout",
     "output_type": "stream",
     "text": [
      "It took 30.48966884613037 to deal with 024_min for year 2006\n",
      "The quantile is: None\n",
      "The duration threshold is: 2\n"
     ]
    },
    {
     "name": "stderr",
     "output_type": "stream",
     "text": [
      "/glade/work/zhonghua/code_uhws_ncc_private/3_revision/5_event_analysis_min/util.py:95: SettingWithCopyWarning: \n",
      "A value is trying to be set on a copy of a slice from a DataFrame\n",
      "\n",
      "See the caveats in the documentation: https://pandas.pydata.org/pandas-docs/stable/user_guide/indexing.html#returning-a-view-versus-a-copy\n",
      "  df_with_quantile[\"HW\"][df_with_quantile[\"mean\"]> df_with_quantile[\"quant\"]] = 0\n"
     ]
    },
    {
     "name": "stdout",
     "output_type": "stream",
     "text": [
      "It took 22.636791467666626 to deal with 024_min for year 2061\n",
      "\n",
      "\n",
      "start member: 025_min\n",
      "The quantile is: 0.98\n",
      "The duration threshold is: 2\n"
     ]
    },
    {
     "name": "stderr",
     "output_type": "stream",
     "text": [
      "/glade/work/zhonghua/code_uhws_ncc_private/3_revision/5_event_analysis_min/util.py:95: SettingWithCopyWarning: \n",
      "A value is trying to be set on a copy of a slice from a DataFrame\n",
      "\n",
      "See the caveats in the documentation: https://pandas.pydata.org/pandas-docs/stable/user_guide/indexing.html#returning-a-view-versus-a-copy\n",
      "  df_with_quantile[\"HW\"][df_with_quantile[\"mean\"]> df_with_quantile[\"quant\"]] = 0\n"
     ]
    },
    {
     "name": "stdout",
     "output_type": "stream",
     "text": [
      "It took 31.138676404953003 to deal with 025_min for year 2006\n",
      "The quantile is: None\n",
      "The duration threshold is: 2\n"
     ]
    },
    {
     "name": "stderr",
     "output_type": "stream",
     "text": [
      "/glade/work/zhonghua/code_uhws_ncc_private/3_revision/5_event_analysis_min/util.py:95: SettingWithCopyWarning: \n",
      "A value is trying to be set on a copy of a slice from a DataFrame\n",
      "\n",
      "See the caveats in the documentation: https://pandas.pydata.org/pandas-docs/stable/user_guide/indexing.html#returning-a-view-versus-a-copy\n",
      "  df_with_quantile[\"HW\"][df_with_quantile[\"mean\"]> df_with_quantile[\"quant\"]] = 0\n"
     ]
    },
    {
     "name": "stdout",
     "output_type": "stream",
     "text": [
      "It took 24.466468811035156 to deal with 025_min for year 2061\n",
      "\n",
      "\n",
      "start member: 026_min\n",
      "The quantile is: 0.98\n",
      "The duration threshold is: 2\n"
     ]
    },
    {
     "name": "stderr",
     "output_type": "stream",
     "text": [
      "/glade/work/zhonghua/code_uhws_ncc_private/3_revision/5_event_analysis_min/util.py:95: SettingWithCopyWarning: \n",
      "A value is trying to be set on a copy of a slice from a DataFrame\n",
      "\n",
      "See the caveats in the documentation: https://pandas.pydata.org/pandas-docs/stable/user_guide/indexing.html#returning-a-view-versus-a-copy\n",
      "  df_with_quantile[\"HW\"][df_with_quantile[\"mean\"]> df_with_quantile[\"quant\"]] = 0\n"
     ]
    },
    {
     "name": "stdout",
     "output_type": "stream",
     "text": [
      "It took 32.47233986854553 to deal with 026_min for year 2006\n",
      "The quantile is: None\n",
      "The duration threshold is: 2\n"
     ]
    },
    {
     "name": "stderr",
     "output_type": "stream",
     "text": [
      "/glade/work/zhonghua/code_uhws_ncc_private/3_revision/5_event_analysis_min/util.py:95: SettingWithCopyWarning: \n",
      "A value is trying to be set on a copy of a slice from a DataFrame\n",
      "\n",
      "See the caveats in the documentation: https://pandas.pydata.org/pandas-docs/stable/user_guide/indexing.html#returning-a-view-versus-a-copy\n",
      "  df_with_quantile[\"HW\"][df_with_quantile[\"mean\"]> df_with_quantile[\"quant\"]] = 0\n"
     ]
    },
    {
     "name": "stdout",
     "output_type": "stream",
     "text": [
      "It took 23.605986833572388 to deal with 026_min for year 2061\n",
      "\n",
      "\n",
      "start member: 027_min\n",
      "The quantile is: 0.98\n",
      "The duration threshold is: 2\n"
     ]
    },
    {
     "name": "stderr",
     "output_type": "stream",
     "text": [
      "/glade/work/zhonghua/code_uhws_ncc_private/3_revision/5_event_analysis_min/util.py:95: SettingWithCopyWarning: \n",
      "A value is trying to be set on a copy of a slice from a DataFrame\n",
      "\n",
      "See the caveats in the documentation: https://pandas.pydata.org/pandas-docs/stable/user_guide/indexing.html#returning-a-view-versus-a-copy\n",
      "  df_with_quantile[\"HW\"][df_with_quantile[\"mean\"]> df_with_quantile[\"quant\"]] = 0\n"
     ]
    },
    {
     "name": "stdout",
     "output_type": "stream",
     "text": [
      "It took 32.26837921142578 to deal with 027_min for year 2006\n",
      "The quantile is: None\n",
      "The duration threshold is: 2\n"
     ]
    },
    {
     "name": "stderr",
     "output_type": "stream",
     "text": [
      "/glade/work/zhonghua/code_uhws_ncc_private/3_revision/5_event_analysis_min/util.py:95: SettingWithCopyWarning: \n",
      "A value is trying to be set on a copy of a slice from a DataFrame\n",
      "\n",
      "See the caveats in the documentation: https://pandas.pydata.org/pandas-docs/stable/user_guide/indexing.html#returning-a-view-versus-a-copy\n",
      "  df_with_quantile[\"HW\"][df_with_quantile[\"mean\"]> df_with_quantile[\"quant\"]] = 0\n"
     ]
    },
    {
     "name": "stdout",
     "output_type": "stream",
     "text": [
      "It took 23.44257688522339 to deal with 027_min for year 2061\n",
      "\n",
      "\n",
      "start member: 028_min\n",
      "The quantile is: 0.98\n",
      "The duration threshold is: 2\n"
     ]
    },
    {
     "name": "stderr",
     "output_type": "stream",
     "text": [
      "/glade/work/zhonghua/code_uhws_ncc_private/3_revision/5_event_analysis_min/util.py:95: SettingWithCopyWarning: \n",
      "A value is trying to be set on a copy of a slice from a DataFrame\n",
      "\n",
      "See the caveats in the documentation: https://pandas.pydata.org/pandas-docs/stable/user_guide/indexing.html#returning-a-view-versus-a-copy\n",
      "  df_with_quantile[\"HW\"][df_with_quantile[\"mean\"]> df_with_quantile[\"quant\"]] = 0\n"
     ]
    },
    {
     "name": "stdout",
     "output_type": "stream",
     "text": [
      "It took 33.210214376449585 to deal with 028_min for year 2006\n",
      "The quantile is: None\n",
      "The duration threshold is: 2\n"
     ]
    },
    {
     "name": "stderr",
     "output_type": "stream",
     "text": [
      "/glade/work/zhonghua/code_uhws_ncc_private/3_revision/5_event_analysis_min/util.py:95: SettingWithCopyWarning: \n",
      "A value is trying to be set on a copy of a slice from a DataFrame\n",
      "\n",
      "See the caveats in the documentation: https://pandas.pydata.org/pandas-docs/stable/user_guide/indexing.html#returning-a-view-versus-a-copy\n",
      "  df_with_quantile[\"HW\"][df_with_quantile[\"mean\"]> df_with_quantile[\"quant\"]] = 0\n"
     ]
    },
    {
     "name": "stdout",
     "output_type": "stream",
     "text": [
      "It took 23.175880670547485 to deal with 028_min for year 2061\n",
      "\n",
      "\n",
      "start member: 029_min\n",
      "The quantile is: 0.98\n",
      "The duration threshold is: 2\n"
     ]
    },
    {
     "name": "stderr",
     "output_type": "stream",
     "text": [
      "/glade/work/zhonghua/code_uhws_ncc_private/3_revision/5_event_analysis_min/util.py:95: SettingWithCopyWarning: \n",
      "A value is trying to be set on a copy of a slice from a DataFrame\n",
      "\n",
      "See the caveats in the documentation: https://pandas.pydata.org/pandas-docs/stable/user_guide/indexing.html#returning-a-view-versus-a-copy\n",
      "  df_with_quantile[\"HW\"][df_with_quantile[\"mean\"]> df_with_quantile[\"quant\"]] = 0\n"
     ]
    },
    {
     "name": "stdout",
     "output_type": "stream",
     "text": [
      "It took 31.494210243225098 to deal with 029_min for year 2006\n",
      "The quantile is: None\n",
      "The duration threshold is: 2\n"
     ]
    },
    {
     "name": "stderr",
     "output_type": "stream",
     "text": [
      "/glade/work/zhonghua/code_uhws_ncc_private/3_revision/5_event_analysis_min/util.py:95: SettingWithCopyWarning: \n",
      "A value is trying to be set on a copy of a slice from a DataFrame\n",
      "\n",
      "See the caveats in the documentation: https://pandas.pydata.org/pandas-docs/stable/user_guide/indexing.html#returning-a-view-versus-a-copy\n",
      "  df_with_quantile[\"HW\"][df_with_quantile[\"mean\"]> df_with_quantile[\"quant\"]] = 0\n"
     ]
    },
    {
     "name": "stdout",
     "output_type": "stream",
     "text": [
      "It took 21.322335481643677 to deal with 029_min for year 2061\n",
      "\n",
      "\n",
      "start member: 030_min\n",
      "The quantile is: 0.98\n",
      "The duration threshold is: 2\n"
     ]
    },
    {
     "name": "stderr",
     "output_type": "stream",
     "text": [
      "/glade/work/zhonghua/code_uhws_ncc_private/3_revision/5_event_analysis_min/util.py:95: SettingWithCopyWarning: \n",
      "A value is trying to be set on a copy of a slice from a DataFrame\n",
      "\n",
      "See the caveats in the documentation: https://pandas.pydata.org/pandas-docs/stable/user_guide/indexing.html#returning-a-view-versus-a-copy\n",
      "  df_with_quantile[\"HW\"][df_with_quantile[\"mean\"]> df_with_quantile[\"quant\"]] = 0\n"
     ]
    },
    {
     "name": "stdout",
     "output_type": "stream",
     "text": [
      "It took 25.89687991142273 to deal with 030_min for year 2006\n",
      "The quantile is: None\n",
      "The duration threshold is: 2\n"
     ]
    },
    {
     "name": "stderr",
     "output_type": "stream",
     "text": [
      "/glade/work/zhonghua/code_uhws_ncc_private/3_revision/5_event_analysis_min/util.py:95: SettingWithCopyWarning: \n",
      "A value is trying to be set on a copy of a slice from a DataFrame\n",
      "\n",
      "See the caveats in the documentation: https://pandas.pydata.org/pandas-docs/stable/user_guide/indexing.html#returning-a-view-versus-a-copy\n",
      "  df_with_quantile[\"HW\"][df_with_quantile[\"mean\"]> df_with_quantile[\"quant\"]] = 0\n"
     ]
    },
    {
     "name": "stdout",
     "output_type": "stream",
     "text": [
      "It took 19.202763557434082 to deal with 030_min for year 2061\n",
      "\n",
      "\n",
      "start member: 031_min\n",
      "The quantile is: 0.98\n",
      "The duration threshold is: 2\n"
     ]
    },
    {
     "name": "stderr",
     "output_type": "stream",
     "text": [
      "/glade/work/zhonghua/code_uhws_ncc_private/3_revision/5_event_analysis_min/util.py:95: SettingWithCopyWarning: \n",
      "A value is trying to be set on a copy of a slice from a DataFrame\n",
      "\n",
      "See the caveats in the documentation: https://pandas.pydata.org/pandas-docs/stable/user_guide/indexing.html#returning-a-view-versus-a-copy\n",
      "  df_with_quantile[\"HW\"][df_with_quantile[\"mean\"]> df_with_quantile[\"quant\"]] = 0\n"
     ]
    },
    {
     "name": "stdout",
     "output_type": "stream",
     "text": [
      "It took 25.775590419769287 to deal with 031_min for year 2006\n",
      "The quantile is: None\n",
      "The duration threshold is: 2\n"
     ]
    },
    {
     "name": "stderr",
     "output_type": "stream",
     "text": [
      "/glade/work/zhonghua/code_uhws_ncc_private/3_revision/5_event_analysis_min/util.py:95: SettingWithCopyWarning: \n",
      "A value is trying to be set on a copy of a slice from a DataFrame\n",
      "\n",
      "See the caveats in the documentation: https://pandas.pydata.org/pandas-docs/stable/user_guide/indexing.html#returning-a-view-versus-a-copy\n",
      "  df_with_quantile[\"HW\"][df_with_quantile[\"mean\"]> df_with_quantile[\"quant\"]] = 0\n"
     ]
    },
    {
     "name": "stdout",
     "output_type": "stream",
     "text": [
      "It took 19.197686195373535 to deal with 031_min for year 2061\n",
      "\n",
      "\n",
      "start member: 032_min\n",
      "The quantile is: 0.98\n",
      "The duration threshold is: 2\n"
     ]
    },
    {
     "name": "stderr",
     "output_type": "stream",
     "text": [
      "/glade/work/zhonghua/code_uhws_ncc_private/3_revision/5_event_analysis_min/util.py:95: SettingWithCopyWarning: \n",
      "A value is trying to be set on a copy of a slice from a DataFrame\n",
      "\n",
      "See the caveats in the documentation: https://pandas.pydata.org/pandas-docs/stable/user_guide/indexing.html#returning-a-view-versus-a-copy\n",
      "  df_with_quantile[\"HW\"][df_with_quantile[\"mean\"]> df_with_quantile[\"quant\"]] = 0\n"
     ]
    },
    {
     "name": "stdout",
     "output_type": "stream",
     "text": [
      "It took 25.951460599899292 to deal with 032_min for year 2006\n",
      "The quantile is: None\n",
      "The duration threshold is: 2\n"
     ]
    },
    {
     "name": "stderr",
     "output_type": "stream",
     "text": [
      "/glade/work/zhonghua/code_uhws_ncc_private/3_revision/5_event_analysis_min/util.py:95: SettingWithCopyWarning: \n",
      "A value is trying to be set on a copy of a slice from a DataFrame\n",
      "\n",
      "See the caveats in the documentation: https://pandas.pydata.org/pandas-docs/stable/user_guide/indexing.html#returning-a-view-versus-a-copy\n",
      "  df_with_quantile[\"HW\"][df_with_quantile[\"mean\"]> df_with_quantile[\"quant\"]] = 0\n"
     ]
    },
    {
     "name": "stdout",
     "output_type": "stream",
     "text": [
      "It took 19.27297353744507 to deal with 032_min for year 2061\n",
      "\n",
      "\n",
      "start member: 033_min\n",
      "The quantile is: 0.98\n",
      "The duration threshold is: 2\n"
     ]
    },
    {
     "name": "stderr",
     "output_type": "stream",
     "text": [
      "/glade/work/zhonghua/code_uhws_ncc_private/3_revision/5_event_analysis_min/util.py:95: SettingWithCopyWarning: \n",
      "A value is trying to be set on a copy of a slice from a DataFrame\n",
      "\n",
      "See the caveats in the documentation: https://pandas.pydata.org/pandas-docs/stable/user_guide/indexing.html#returning-a-view-versus-a-copy\n",
      "  df_with_quantile[\"HW\"][df_with_quantile[\"mean\"]> df_with_quantile[\"quant\"]] = 0\n"
     ]
    },
    {
     "name": "stdout",
     "output_type": "stream",
     "text": [
      "It took 25.80399799346924 to deal with 033_min for year 2006\n",
      "The quantile is: None\n",
      "The duration threshold is: 2\n"
     ]
    },
    {
     "name": "stderr",
     "output_type": "stream",
     "text": [
      "/glade/work/zhonghua/code_uhws_ncc_private/3_revision/5_event_analysis_min/util.py:95: SettingWithCopyWarning: \n",
      "A value is trying to be set on a copy of a slice from a DataFrame\n",
      "\n",
      "See the caveats in the documentation: https://pandas.pydata.org/pandas-docs/stable/user_guide/indexing.html#returning-a-view-versus-a-copy\n",
      "  df_with_quantile[\"HW\"][df_with_quantile[\"mean\"]> df_with_quantile[\"quant\"]] = 0\n"
     ]
    },
    {
     "name": "stdout",
     "output_type": "stream",
     "text": [
      "It took 19.2392315864563 to deal with 033_min for year 2061\n",
      "\n",
      "\n"
     ]
    }
   ],
   "source": [
    "frequency_2006_ls=[]\n",
    "duration_2006_ls=[]\n",
    "intensity_2006_ls=[]\n",
    "quantile_avail_2006_ls=[]\n",
    "\n",
    "frequency_2061_ls=[]\n",
    "duration_2061_ls=[]\n",
    "intensity_2061_ls=[]\n",
    "quantile_avail_2061_ls=[]\n",
    "for member in member_ls:\n",
    "    print(\"start member:\",member)\n",
    "    \n",
    "    # start 2006\n",
    "    start_time_2006=time.time()\n",
    "    cesm_2006_hw, quantile_avail_2006=util.get_heat_waves_df(cesm_2006[[\"lat\",\"lon\",\"time\",member]], 0.98, 2, \"cesm\", None)\n",
    "    \n",
    "    frequency_2006_ls.append(util.get_frequency(cesm_2006_hw,member))\n",
    "    duration_2006_ls.append(util.get_duration(cesm_2006_hw,member))\n",
    "    intensity_2006_ls.append(util.get_intensity(cesm_2006_hw,member))\n",
    "    quantile_avail_2006_ls.append(quantile_avail_2006.copy().rename(columns={\"quant\": member}).set_index([\"lat\",\"lon\"]))\n",
    "    print(\"It took\",time.time()-start_time_2006,\"to deal with\",member,\"for year 2006\")\n",
    "    \n",
    "    # start 2061\n",
    "    start_time_2061=time.time()\n",
    "    cesm_2061_hw, quantile_avail_2061=util.get_heat_waves_df(cesm_2061[[\"lat\",\"lon\",\"time\",member]], None, 2, \"cesm\", quantile_avail_2006)\n",
    "    \n",
    "    frequency_2061_ls.append(util.get_frequency(cesm_2061_hw,member))\n",
    "    duration_2061_ls.append(util.get_duration(cesm_2061_hw,member))\n",
    "    intensity_2061_ls.append(util.get_intensity(cesm_2061_hw,member))\n",
    "    quantile_avail_2061_ls.append(quantile_avail_2061.copy().rename(columns={\"quant\": member}).set_index([\"lat\",\"lon\"]))\n",
    "    print(\"It took\",time.time()-start_time_2061,\"to deal with\",member,\"for year 2061\")\n",
    "    print(\"\\n\")\n",
    "    \n",
    "    del cesm_2006_hw, cesm_2061_hw, quantile_avail_2006, quantile_avail_2061\n",
    "    gc.collect()"
   ]
  },
  {
   "cell_type": "markdown",
   "metadata": {},
   "source": [
    "## Merge to dataframe and save as csv"
   ]
  },
  {
   "cell_type": "code",
   "execution_count": 5,
   "metadata": {},
   "outputs": [],
   "source": [
    "frequency_2006 = pd.concat(frequency_2006_ls, axis=1)\n",
    "duration_2006 = pd.concat(duration_2006_ls, axis=1)\n",
    "intensity_2006 = pd.concat(intensity_2006_ls, axis=1)\n",
    "quantile_avail_2006 = pd.concat(quantile_avail_2006_ls, axis=1)\n",
    "\n",
    "frequency_2061 = pd.concat(frequency_2061_ls, axis=1)\n",
    "duration_2061 = pd.concat(duration_2061_ls, axis=1)\n",
    "intensity_2061 = pd.concat(intensity_2061_ls, axis=1)\n",
    "quantile_avail_2061 = pd.concat(quantile_avail_2061_ls, axis=1)"
   ]
  },
  {
   "cell_type": "code",
   "execution_count": 6,
   "metadata": {},
   "outputs": [],
   "source": [
    "# here the quantile 2006 and quantile 2061 should be same\n",
    "frequency_2006.to_csv(save_dir+\"2006_frequency.csv\")\n",
    "duration_2006.to_csv(save_dir+\"2006_totaldays.csv\")\n",
    "intensity_2006.to_csv(save_dir+\"2006_intensity.csv\")\n",
    "quantile_avail_2006.to_csv(save_dir+\"2006_percentile.csv\")\n",
    "\n",
    "frequency_2061.to_csv(save_dir+\"2061_frequency.csv\")\n",
    "duration_2061.to_csv(save_dir+\"2061_totaldays.csv\")\n",
    "intensity_2061.to_csv(save_dir+\"2061_intensity.csv\")\n",
    "quantile_avail_2061.to_csv(save_dir+\"2061_percentile.csv\")"
   ]
  }
 ],
 "metadata": {
  "kernelspec": {
   "display_name": "Python 3",
   "language": "python",
   "name": "python3"
  },
  "language_info": {
   "codemirror_mode": {
    "name": "ipython",
    "version": 3
   },
   "file_extension": ".py",
   "mimetype": "text/x-python",
   "name": "python",
   "nbconvert_exporter": "python",
   "pygments_lexer": "ipython3",
   "version": "3.6.7"
  },
  "toc": {
   "base_numbering": 1,
   "nav_menu": {},
   "number_sections": true,
   "sideBar": true,
   "skip_h1_title": false,
   "title_cell": "Table of Contents",
   "title_sidebar": "Contents",
   "toc_cell": false,
   "toc_position": {},
   "toc_section_display": true,
   "toc_window_display": false
  }
 },
 "nbformat": 4,
 "nbformat_minor": 2
}
