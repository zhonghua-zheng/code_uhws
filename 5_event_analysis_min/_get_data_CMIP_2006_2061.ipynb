{
 "cells": [
  {
   "cell_type": "markdown",
   "metadata": {},
   "source": [
    "This script is used to generate the frequency, total days, and intensity of the UHWs using **CMIP urban predictions**\n",
    "\n",
    "The data sets are from:   \n",
    "```bash\n",
    "/glade/scratch/zhonghua/CMIP5_pred_min/\n",
    "```\n",
    "\n",
    "The results are saved at:\n",
    "```\n",
    "/glade/scratch/zhonghua/uhws_min/UHWs_CMIP/\n",
    "```\n",
    "\n",
    "Note:     \n",
    "**2006**: Using 2006 itself to calculate the percentile, frequency, total days, and intensity  \n",
    "**2061**: Using the percentile of **2006** to calculate frequency, total days, and intensity of 2061  "
   ]
  },
  {
   "cell_type": "code",
   "execution_count": 1,
   "metadata": {},
   "outputs": [],
   "source": [
    "import xarray as xr\n",
    "import datetime\n",
    "import pandas as pd\n",
    "import numpy as np\n",
    "from mpl_toolkits.basemap import Basemap\n",
    "import matplotlib.pyplot as plt\n",
    "import time\n",
    "import gc\n",
    "import util\n",
    "# from s3fs.core import S3FileSystem\n",
    "# s3 = S3FileSystem()\n",
    "\n",
    "save_dir = \"/glade/scratch/zhonghua/uhws_min/UHWs_CMIP/\""
   ]
  },
  {
   "cell_type": "code",
   "execution_count": 2,
   "metadata": {},
   "outputs": [],
   "source": [
    "CMIP5_ls = [\"ACCESS1-0\", \"ACCESS1-3\", \"CanESM2\", \"CNRM-CM5\", \"CSIRO-Mk3-6-0\",\n",
    "            \"FGOALS-s2\",\"GFDL-CM3\", \"GFDL-ESM2G\", \"GFDL-ESM2M\", \"HadGEM2-CC\",\n",
    "            \"HadGEM2-ES\", \"IPSL-CM5A-MR\", \"MIROC5\", \"MIROC-ESM\", \"MIROC-ESM-CHEM\",\n",
    "            \"MRI-CGCM3\", \"MRI-ESM1\"]"
   ]
  },
  {
   "cell_type": "markdown",
   "metadata": {},
   "source": [
    "## Step 1: Start the pipeline to use 98% percentile (2006) to get frequency (events/year), total days (days/year), and intensity (K) of 2006 and 2061"
   ]
  },
  {
   "cell_type": "code",
   "execution_count": 3,
   "metadata": {
    "scrolled": false
   },
   "outputs": [
    {
     "name": "stdout",
     "output_type": "stream",
     "text": [
      "start model: ACCESS1-0\n",
      "Start to load csv /glade/scratch/zhonghua/CMIP5_pred_min/2006/ACCESS1-0.csv\n",
      "It takes 7.602426528930664 to load csv\n",
      "The quantile is: 0.98\n",
      "The duration threshold is: 2\n"
     ]
    },
    {
     "name": "stderr",
     "output_type": "stream",
     "text": [
      "/glade/work/zhonghua/code_uhws_ncc_private/3_revision/5_event_analysis_min/util.py:95: SettingWithCopyWarning: \n",
      "A value is trying to be set on a copy of a slice from a DataFrame\n",
      "\n",
      "See the caveats in the documentation: https://pandas.pydata.org/pandas-docs/stable/user_guide/indexing.html#returning-a-view-versus-a-copy\n",
      "  df_with_quantile[\"HW\"][df_with_quantile[\"mean\"]> df_with_quantile[\"quant\"]] = 0\n"
     ]
    },
    {
     "name": "stdout",
     "output_type": "stream",
     "text": [
      "It took 35.47353172302246 to deal with ACCESS1-0 for year 2006\n",
      "Start to load csv /glade/scratch/zhonghua/CMIP5_pred_min/2061/ACCESS1-0.csv\n",
      "It takes 7.4790709018707275 to load csv\n",
      "The quantile is: None\n",
      "The duration threshold is: 2\n"
     ]
    },
    {
     "name": "stderr",
     "output_type": "stream",
     "text": [
      "/glade/work/zhonghua/code_uhws_ncc_private/3_revision/5_event_analysis_min/util.py:95: SettingWithCopyWarning: \n",
      "A value is trying to be set on a copy of a slice from a DataFrame\n",
      "\n",
      "See the caveats in the documentation: https://pandas.pydata.org/pandas-docs/stable/user_guide/indexing.html#returning-a-view-versus-a-copy\n",
      "  df_with_quantile[\"HW\"][df_with_quantile[\"mean\"]> df_with_quantile[\"quant\"]] = 0\n"
     ]
    },
    {
     "name": "stdout",
     "output_type": "stream",
     "text": [
      "It took 30.807968854904175 to deal with ACCESS1-0 for year 2061\n",
      "\n",
      "\n",
      "start model: ACCESS1-3\n",
      "Start to load csv /glade/scratch/zhonghua/CMIP5_pred_min/2006/ACCESS1-3.csv\n",
      "It takes 7.567287921905518 to load csv\n",
      "The quantile is: 0.98\n",
      "The duration threshold is: 2\n"
     ]
    },
    {
     "name": "stderr",
     "output_type": "stream",
     "text": [
      "/glade/work/zhonghua/code_uhws_ncc_private/3_revision/5_event_analysis_min/util.py:95: SettingWithCopyWarning: \n",
      "A value is trying to be set on a copy of a slice from a DataFrame\n",
      "\n",
      "See the caveats in the documentation: https://pandas.pydata.org/pandas-docs/stable/user_guide/indexing.html#returning-a-view-versus-a-copy\n",
      "  df_with_quantile[\"HW\"][df_with_quantile[\"mean\"]> df_with_quantile[\"quant\"]] = 0\n"
     ]
    },
    {
     "name": "stdout",
     "output_type": "stream",
     "text": [
      "It took 35.480507612228394 to deal with ACCESS1-3 for year 2006\n",
      "Start to load csv /glade/scratch/zhonghua/CMIP5_pred_min/2061/ACCESS1-3.csv\n",
      "It takes 7.584562063217163 to load csv\n",
      "The quantile is: None\n",
      "The duration threshold is: 2\n"
     ]
    },
    {
     "name": "stderr",
     "output_type": "stream",
     "text": [
      "/glade/work/zhonghua/code_uhws_ncc_private/3_revision/5_event_analysis_min/util.py:95: SettingWithCopyWarning: \n",
      "A value is trying to be set on a copy of a slice from a DataFrame\n",
      "\n",
      "See the caveats in the documentation: https://pandas.pydata.org/pandas-docs/stable/user_guide/indexing.html#returning-a-view-versus-a-copy\n",
      "  df_with_quantile[\"HW\"][df_with_quantile[\"mean\"]> df_with_quantile[\"quant\"]] = 0\n"
     ]
    },
    {
     "name": "stdout",
     "output_type": "stream",
     "text": [
      "It took 30.875245332717896 to deal with ACCESS1-3 for year 2061\n",
      "\n",
      "\n",
      "start model: CanESM2\n",
      "Start to load csv /glade/scratch/zhonghua/CMIP5_pred_min/2006/CanESM2.csv\n",
      "It takes 7.553845167160034 to load csv\n",
      "The quantile is: 0.98\n",
      "The duration threshold is: 2\n"
     ]
    },
    {
     "name": "stderr",
     "output_type": "stream",
     "text": [
      "/glade/work/zhonghua/code_uhws_ncc_private/3_revision/5_event_analysis_min/util.py:95: SettingWithCopyWarning: \n",
      "A value is trying to be set on a copy of a slice from a DataFrame\n",
      "\n",
      "See the caveats in the documentation: https://pandas.pydata.org/pandas-docs/stable/user_guide/indexing.html#returning-a-view-versus-a-copy\n",
      "  df_with_quantile[\"HW\"][df_with_quantile[\"mean\"]> df_with_quantile[\"quant\"]] = 0\n"
     ]
    },
    {
     "name": "stdout",
     "output_type": "stream",
     "text": [
      "It took 36.03491997718811 to deal with CanESM2 for year 2006\n",
      "Start to load csv /glade/scratch/zhonghua/CMIP5_pred_min/2061/CanESM2.csv\n",
      "It takes 7.532196283340454 to load csv\n",
      "The quantile is: None\n",
      "The duration threshold is: 2\n"
     ]
    },
    {
     "name": "stderr",
     "output_type": "stream",
     "text": [
      "/glade/work/zhonghua/code_uhws_ncc_private/3_revision/5_event_analysis_min/util.py:95: SettingWithCopyWarning: \n",
      "A value is trying to be set on a copy of a slice from a DataFrame\n",
      "\n",
      "See the caveats in the documentation: https://pandas.pydata.org/pandas-docs/stable/user_guide/indexing.html#returning-a-view-versus-a-copy\n",
      "  df_with_quantile[\"HW\"][df_with_quantile[\"mean\"]> df_with_quantile[\"quant\"]] = 0\n"
     ]
    },
    {
     "name": "stdout",
     "output_type": "stream",
     "text": [
      "It took 30.49365496635437 to deal with CanESM2 for year 2061\n",
      "\n",
      "\n",
      "start model: CNRM-CM5\n",
      "Start to load csv /glade/scratch/zhonghua/CMIP5_pred_min/2006/CNRM-CM5.csv\n",
      "It takes 7.563260316848755 to load csv\n",
      "The quantile is: 0.98\n",
      "The duration threshold is: 2\n"
     ]
    },
    {
     "name": "stderr",
     "output_type": "stream",
     "text": [
      "/glade/work/zhonghua/code_uhws_ncc_private/3_revision/5_event_analysis_min/util.py:95: SettingWithCopyWarning: \n",
      "A value is trying to be set on a copy of a slice from a DataFrame\n",
      "\n",
      "See the caveats in the documentation: https://pandas.pydata.org/pandas-docs/stable/user_guide/indexing.html#returning-a-view-versus-a-copy\n",
      "  df_with_quantile[\"HW\"][df_with_quantile[\"mean\"]> df_with_quantile[\"quant\"]] = 0\n"
     ]
    },
    {
     "name": "stdout",
     "output_type": "stream",
     "text": [
      "It took 35.2271773815155 to deal with CNRM-CM5 for year 2006\n",
      "Start to load csv /glade/scratch/zhonghua/CMIP5_pred_min/2061/CNRM-CM5.csv\n",
      "It takes 7.585180759429932 to load csv\n",
      "The quantile is: None\n",
      "The duration threshold is: 2\n"
     ]
    },
    {
     "name": "stderr",
     "output_type": "stream",
     "text": [
      "/glade/work/zhonghua/code_uhws_ncc_private/3_revision/5_event_analysis_min/util.py:95: SettingWithCopyWarning: \n",
      "A value is trying to be set on a copy of a slice from a DataFrame\n",
      "\n",
      "See the caveats in the documentation: https://pandas.pydata.org/pandas-docs/stable/user_guide/indexing.html#returning-a-view-versus-a-copy\n",
      "  df_with_quantile[\"HW\"][df_with_quantile[\"mean\"]> df_with_quantile[\"quant\"]] = 0\n"
     ]
    },
    {
     "name": "stdout",
     "output_type": "stream",
     "text": [
      "It took 28.983514308929443 to deal with CNRM-CM5 for year 2061\n",
      "\n",
      "\n",
      "start model: CSIRO-Mk3-6-0\n",
      "Start to load csv /glade/scratch/zhonghua/CMIP5_pred_min/2006/CSIRO-Mk3-6-0.csv\n",
      "It takes 7.384784698486328 to load csv\n",
      "The quantile is: 0.98\n",
      "The duration threshold is: 2\n"
     ]
    },
    {
     "name": "stderr",
     "output_type": "stream",
     "text": [
      "/glade/work/zhonghua/code_uhws_ncc_private/3_revision/5_event_analysis_min/util.py:95: SettingWithCopyWarning: \n",
      "A value is trying to be set on a copy of a slice from a DataFrame\n",
      "\n",
      "See the caveats in the documentation: https://pandas.pydata.org/pandas-docs/stable/user_guide/indexing.html#returning-a-view-versus-a-copy\n",
      "  df_with_quantile[\"HW\"][df_with_quantile[\"mean\"]> df_with_quantile[\"quant\"]] = 0\n"
     ]
    },
    {
     "name": "stdout",
     "output_type": "stream",
     "text": [
      "It took 35.114418506622314 to deal with CSIRO-Mk3-6-0 for year 2006\n",
      "Start to load csv /glade/scratch/zhonghua/CMIP5_pred_min/2061/CSIRO-Mk3-6-0.csv\n",
      "It takes 7.466425180435181 to load csv\n",
      "The quantile is: None\n",
      "The duration threshold is: 2\n"
     ]
    },
    {
     "name": "stderr",
     "output_type": "stream",
     "text": [
      "/glade/work/zhonghua/code_uhws_ncc_private/3_revision/5_event_analysis_min/util.py:95: SettingWithCopyWarning: \n",
      "A value is trying to be set on a copy of a slice from a DataFrame\n",
      "\n",
      "See the caveats in the documentation: https://pandas.pydata.org/pandas-docs/stable/user_guide/indexing.html#returning-a-view-versus-a-copy\n",
      "  df_with_quantile[\"HW\"][df_with_quantile[\"mean\"]> df_with_quantile[\"quant\"]] = 0\n"
     ]
    },
    {
     "name": "stdout",
     "output_type": "stream",
     "text": [
      "It took 30.18496346473694 to deal with CSIRO-Mk3-6-0 for year 2061\n",
      "\n",
      "\n",
      "start model: FGOALS-s2\n",
      "Start to load csv /glade/scratch/zhonghua/CMIP5_pred_min/2006/FGOALS-s2.csv\n",
      "It takes 7.479983568191528 to load csv\n",
      "The quantile is: 0.98\n",
      "The duration threshold is: 2\n"
     ]
    },
    {
     "name": "stderr",
     "output_type": "stream",
     "text": [
      "/glade/work/zhonghua/code_uhws_ncc_private/3_revision/5_event_analysis_min/util.py:95: SettingWithCopyWarning: \n",
      "A value is trying to be set on a copy of a slice from a DataFrame\n",
      "\n",
      "See the caveats in the documentation: https://pandas.pydata.org/pandas-docs/stable/user_guide/indexing.html#returning-a-view-versus-a-copy\n",
      "  df_with_quantile[\"HW\"][df_with_quantile[\"mean\"]> df_with_quantile[\"quant\"]] = 0\n"
     ]
    },
    {
     "name": "stdout",
     "output_type": "stream",
     "text": [
      "It took 34.904552936553955 to deal with FGOALS-s2 for year 2006\n",
      "Start to load csv /glade/scratch/zhonghua/CMIP5_pred_min/2061/FGOALS-s2.csv\n",
      "It takes 7.748824596405029 to load csv\n",
      "The quantile is: None\n",
      "The duration threshold is: 2\n"
     ]
    },
    {
     "name": "stderr",
     "output_type": "stream",
     "text": [
      "/glade/work/zhonghua/code_uhws_ncc_private/3_revision/5_event_analysis_min/util.py:95: SettingWithCopyWarning: \n",
      "A value is trying to be set on a copy of a slice from a DataFrame\n",
      "\n",
      "See the caveats in the documentation: https://pandas.pydata.org/pandas-docs/stable/user_guide/indexing.html#returning-a-view-versus-a-copy\n",
      "  df_with_quantile[\"HW\"][df_with_quantile[\"mean\"]> df_with_quantile[\"quant\"]] = 0\n"
     ]
    },
    {
     "name": "stdout",
     "output_type": "stream",
     "text": [
      "It took 31.090988159179688 to deal with FGOALS-s2 for year 2061\n",
      "\n",
      "\n",
      "start model: GFDL-CM3\n",
      "Start to load csv /glade/scratch/zhonghua/CMIP5_pred_min/2006/GFDL-CM3.csv\n",
      "It takes 7.440526485443115 to load csv\n",
      "The quantile is: 0.98\n",
      "The duration threshold is: 2\n"
     ]
    },
    {
     "name": "stderr",
     "output_type": "stream",
     "text": [
      "/glade/work/zhonghua/code_uhws_ncc_private/3_revision/5_event_analysis_min/util.py:95: SettingWithCopyWarning: \n",
      "A value is trying to be set on a copy of a slice from a DataFrame\n",
      "\n",
      "See the caveats in the documentation: https://pandas.pydata.org/pandas-docs/stable/user_guide/indexing.html#returning-a-view-versus-a-copy\n",
      "  df_with_quantile[\"HW\"][df_with_quantile[\"mean\"]> df_with_quantile[\"quant\"]] = 0\n"
     ]
    },
    {
     "name": "stdout",
     "output_type": "stream",
     "text": [
      "It took 35.03029203414917 to deal with GFDL-CM3 for year 2006\n",
      "Start to load csv /glade/scratch/zhonghua/CMIP5_pred_min/2061/GFDL-CM3.csv\n",
      "It takes 7.4925031661987305 to load csv\n",
      "The quantile is: None\n",
      "The duration threshold is: 2\n"
     ]
    },
    {
     "name": "stderr",
     "output_type": "stream",
     "text": [
      "/glade/work/zhonghua/code_uhws_ncc_private/3_revision/5_event_analysis_min/util.py:95: SettingWithCopyWarning: \n",
      "A value is trying to be set on a copy of a slice from a DataFrame\n",
      "\n",
      "See the caveats in the documentation: https://pandas.pydata.org/pandas-docs/stable/user_guide/indexing.html#returning-a-view-versus-a-copy\n",
      "  df_with_quantile[\"HW\"][df_with_quantile[\"mean\"]> df_with_quantile[\"quant\"]] = 0\n"
     ]
    },
    {
     "name": "stdout",
     "output_type": "stream",
     "text": [
      "It took 30.495348691940308 to deal with GFDL-CM3 for year 2061\n",
      "\n",
      "\n",
      "start model: GFDL-ESM2G\n",
      "Start to load csv /glade/scratch/zhonghua/CMIP5_pred_min/2006/GFDL-ESM2G.csv\n",
      "It takes 7.48078727722168 to load csv\n",
      "The quantile is: 0.98\n",
      "The duration threshold is: 2\n"
     ]
    },
    {
     "name": "stderr",
     "output_type": "stream",
     "text": [
      "/glade/work/zhonghua/code_uhws_ncc_private/3_revision/5_event_analysis_min/util.py:95: SettingWithCopyWarning: \n",
      "A value is trying to be set on a copy of a slice from a DataFrame\n",
      "\n",
      "See the caveats in the documentation: https://pandas.pydata.org/pandas-docs/stable/user_guide/indexing.html#returning-a-view-versus-a-copy\n",
      "  df_with_quantile[\"HW\"][df_with_quantile[\"mean\"]> df_with_quantile[\"quant\"]] = 0\n"
     ]
    },
    {
     "name": "stdout",
     "output_type": "stream",
     "text": [
      "It took 34.98942828178406 to deal with GFDL-ESM2G for year 2006\n",
      "Start to load csv /glade/scratch/zhonghua/CMIP5_pred_min/2061/GFDL-ESM2G.csv\n",
      "It takes 7.525402545928955 to load csv\n",
      "The quantile is: None\n",
      "The duration threshold is: 2\n"
     ]
    },
    {
     "name": "stderr",
     "output_type": "stream",
     "text": [
      "/glade/work/zhonghua/code_uhws_ncc_private/3_revision/5_event_analysis_min/util.py:95: SettingWithCopyWarning: \n",
      "A value is trying to be set on a copy of a slice from a DataFrame\n",
      "\n",
      "See the caveats in the documentation: https://pandas.pydata.org/pandas-docs/stable/user_guide/indexing.html#returning-a-view-versus-a-copy\n",
      "  df_with_quantile[\"HW\"][df_with_quantile[\"mean\"]> df_with_quantile[\"quant\"]] = 0\n"
     ]
    },
    {
     "name": "stdout",
     "output_type": "stream",
     "text": [
      "It took 28.621655464172363 to deal with GFDL-ESM2G for year 2061\n",
      "\n",
      "\n",
      "start model: GFDL-ESM2M\n",
      "Start to load csv /glade/scratch/zhonghua/CMIP5_pred_min/2006/GFDL-ESM2M.csv\n",
      "It takes 7.349118709564209 to load csv\n",
      "The quantile is: 0.98\n",
      "The duration threshold is: 2\n"
     ]
    },
    {
     "name": "stderr",
     "output_type": "stream",
     "text": [
      "/glade/work/zhonghua/code_uhws_ncc_private/3_revision/5_event_analysis_min/util.py:95: SettingWithCopyWarning: \n",
      "A value is trying to be set on a copy of a slice from a DataFrame\n",
      "\n",
      "See the caveats in the documentation: https://pandas.pydata.org/pandas-docs/stable/user_guide/indexing.html#returning-a-view-versus-a-copy\n",
      "  df_with_quantile[\"HW\"][df_with_quantile[\"mean\"]> df_with_quantile[\"quant\"]] = 0\n"
     ]
    },
    {
     "name": "stdout",
     "output_type": "stream",
     "text": [
      "It took 35.335065603256226 to deal with GFDL-ESM2M for year 2006\n",
      "Start to load csv /glade/scratch/zhonghua/CMIP5_pred_min/2061/GFDL-ESM2M.csv\n",
      "It takes 7.409099102020264 to load csv\n",
      "The quantile is: None\n",
      "The duration threshold is: 2\n"
     ]
    },
    {
     "name": "stderr",
     "output_type": "stream",
     "text": [
      "/glade/work/zhonghua/code_uhws_ncc_private/3_revision/5_event_analysis_min/util.py:95: SettingWithCopyWarning: \n",
      "A value is trying to be set on a copy of a slice from a DataFrame\n",
      "\n",
      "See the caveats in the documentation: https://pandas.pydata.org/pandas-docs/stable/user_guide/indexing.html#returning-a-view-versus-a-copy\n",
      "  df_with_quantile[\"HW\"][df_with_quantile[\"mean\"]> df_with_quantile[\"quant\"]] = 0\n"
     ]
    },
    {
     "name": "stdout",
     "output_type": "stream",
     "text": [
      "It took 28.598329067230225 to deal with GFDL-ESM2M for year 2061\n",
      "\n",
      "\n",
      "start model: HadGEM2-CC\n",
      "Start to load csv /glade/scratch/zhonghua/CMIP5_pred_min/2006/HadGEM2-CC.csv\n",
      "It takes 7.095744609832764 to load csv\n",
      "The quantile is: 0.98\n",
      "The duration threshold is: 2\n"
     ]
    },
    {
     "name": "stderr",
     "output_type": "stream",
     "text": [
      "/glade/work/zhonghua/code_uhws_ncc_private/3_revision/5_event_analysis_min/util.py:95: SettingWithCopyWarning: \n",
      "A value is trying to be set on a copy of a slice from a DataFrame\n",
      "\n",
      "See the caveats in the documentation: https://pandas.pydata.org/pandas-docs/stable/user_guide/indexing.html#returning-a-view-versus-a-copy\n",
      "  df_with_quantile[\"HW\"][df_with_quantile[\"mean\"]> df_with_quantile[\"quant\"]] = 0\n"
     ]
    },
    {
     "name": "stdout",
     "output_type": "stream",
     "text": [
      "It took 33.66689372062683 to deal with HadGEM2-CC for year 2006\n",
      "Start to load csv /glade/scratch/zhonghua/CMIP5_pred_min/2061/HadGEM2-CC.csv\n",
      "It takes 7.2447144985198975 to load csv\n",
      "The quantile is: None\n",
      "The duration threshold is: 2\n"
     ]
    },
    {
     "name": "stderr",
     "output_type": "stream",
     "text": [
      "/glade/work/zhonghua/code_uhws_ncc_private/3_revision/5_event_analysis_min/util.py:95: SettingWithCopyWarning: \n",
      "A value is trying to be set on a copy of a slice from a DataFrame\n",
      "\n",
      "See the caveats in the documentation: https://pandas.pydata.org/pandas-docs/stable/user_guide/indexing.html#returning-a-view-versus-a-copy\n",
      "  df_with_quantile[\"HW\"][df_with_quantile[\"mean\"]> df_with_quantile[\"quant\"]] = 0\n"
     ]
    },
    {
     "name": "stdout",
     "output_type": "stream",
     "text": [
      "It took 29.753822565078735 to deal with HadGEM2-CC for year 2061\n",
      "\n",
      "\n",
      "start model: HadGEM2-ES\n",
      "Start to load csv /glade/scratch/zhonghua/CMIP5_pred_min/2006/HadGEM2-ES.csv\n",
      "It takes 7.101730108261108 to load csv\n",
      "The quantile is: 0.98\n",
      "The duration threshold is: 2\n"
     ]
    },
    {
     "name": "stderr",
     "output_type": "stream",
     "text": [
      "/glade/work/zhonghua/code_uhws_ncc_private/3_revision/5_event_analysis_min/util.py:95: SettingWithCopyWarning: \n",
      "A value is trying to be set on a copy of a slice from a DataFrame\n",
      "\n",
      "See the caveats in the documentation: https://pandas.pydata.org/pandas-docs/stable/user_guide/indexing.html#returning-a-view-versus-a-copy\n",
      "  df_with_quantile[\"HW\"][df_with_quantile[\"mean\"]> df_with_quantile[\"quant\"]] = 0\n"
     ]
    },
    {
     "name": "stdout",
     "output_type": "stream",
     "text": [
      "It took 34.44319725036621 to deal with HadGEM2-ES for year 2006\n",
      "Start to load csv /glade/scratch/zhonghua/CMIP5_pred_min/2061/HadGEM2-ES.csv\n",
      "It takes 7.19521164894104 to load csv\n",
      "The quantile is: None\n",
      "The duration threshold is: 2\n"
     ]
    },
    {
     "name": "stderr",
     "output_type": "stream",
     "text": [
      "/glade/work/zhonghua/code_uhws_ncc_private/3_revision/5_event_analysis_min/util.py:95: SettingWithCopyWarning: \n",
      "A value is trying to be set on a copy of a slice from a DataFrame\n",
      "\n",
      "See the caveats in the documentation: https://pandas.pydata.org/pandas-docs/stable/user_guide/indexing.html#returning-a-view-versus-a-copy\n",
      "  df_with_quantile[\"HW\"][df_with_quantile[\"mean\"]> df_with_quantile[\"quant\"]] = 0\n"
     ]
    },
    {
     "name": "stdout",
     "output_type": "stream",
     "text": [
      "It took 29.7371723651886 to deal with HadGEM2-ES for year 2061\n",
      "\n",
      "\n",
      "start model: IPSL-CM5A-MR\n",
      "Start to load csv /glade/scratch/zhonghua/CMIP5_pred_min/2006/IPSL-CM5A-MR.csv\n",
      "It takes 7.29337477684021 to load csv\n",
      "The quantile is: 0.98\n",
      "The duration threshold is: 2\n"
     ]
    },
    {
     "name": "stderr",
     "output_type": "stream",
     "text": [
      "/glade/work/zhonghua/code_uhws_ncc_private/3_revision/5_event_analysis_min/util.py:95: SettingWithCopyWarning: \n",
      "A value is trying to be set on a copy of a slice from a DataFrame\n",
      "\n",
      "See the caveats in the documentation: https://pandas.pydata.org/pandas-docs/stable/user_guide/indexing.html#returning-a-view-versus-a-copy\n",
      "  df_with_quantile[\"HW\"][df_with_quantile[\"mean\"]> df_with_quantile[\"quant\"]] = 0\n"
     ]
    },
    {
     "name": "stdout",
     "output_type": "stream",
     "text": [
      "It took 34.73389530181885 to deal with IPSL-CM5A-MR for year 2006\n",
      "Start to load csv /glade/scratch/zhonghua/CMIP5_pred_min/2061/IPSL-CM5A-MR.csv\n",
      "It takes 7.216592311859131 to load csv\n",
      "The quantile is: None\n",
      "The duration threshold is: 2\n"
     ]
    },
    {
     "name": "stderr",
     "output_type": "stream",
     "text": [
      "/glade/work/zhonghua/code_uhws_ncc_private/3_revision/5_event_analysis_min/util.py:95: SettingWithCopyWarning: \n",
      "A value is trying to be set on a copy of a slice from a DataFrame\n",
      "\n",
      "See the caveats in the documentation: https://pandas.pydata.org/pandas-docs/stable/user_guide/indexing.html#returning-a-view-versus-a-copy\n",
      "  df_with_quantile[\"HW\"][df_with_quantile[\"mean\"]> df_with_quantile[\"quant\"]] = 0\n"
     ]
    },
    {
     "name": "stdout",
     "output_type": "stream",
     "text": [
      "It took 30.30164933204651 to deal with IPSL-CM5A-MR for year 2061\n",
      "\n",
      "\n",
      "start model: MIROC5\n",
      "Start to load csv /glade/scratch/zhonghua/CMIP5_pred_min/2006/MIROC5.csv\n",
      "It takes 7.263226747512817 to load csv\n",
      "The quantile is: 0.98\n",
      "The duration threshold is: 2\n"
     ]
    },
    {
     "name": "stderr",
     "output_type": "stream",
     "text": [
      "/glade/work/zhonghua/code_uhws_ncc_private/3_revision/5_event_analysis_min/util.py:95: SettingWithCopyWarning: \n",
      "A value is trying to be set on a copy of a slice from a DataFrame\n",
      "\n",
      "See the caveats in the documentation: https://pandas.pydata.org/pandas-docs/stable/user_guide/indexing.html#returning-a-view-versus-a-copy\n",
      "  df_with_quantile[\"HW\"][df_with_quantile[\"mean\"]> df_with_quantile[\"quant\"]] = 0\n"
     ]
    },
    {
     "name": "stdout",
     "output_type": "stream",
     "text": [
      "It took 33.97700524330139 to deal with MIROC5 for year 2006\n",
      "Start to load csv /glade/scratch/zhonghua/CMIP5_pred_min/2061/MIROC5.csv\n",
      "It takes 7.392742395401001 to load csv\n",
      "The quantile is: None\n",
      "The duration threshold is: 2\n"
     ]
    },
    {
     "name": "stderr",
     "output_type": "stream",
     "text": [
      "/glade/work/zhonghua/code_uhws_ncc_private/3_revision/5_event_analysis_min/util.py:95: SettingWithCopyWarning: \n",
      "A value is trying to be set on a copy of a slice from a DataFrame\n",
      "\n",
      "See the caveats in the documentation: https://pandas.pydata.org/pandas-docs/stable/user_guide/indexing.html#returning-a-view-versus-a-copy\n",
      "  df_with_quantile[\"HW\"][df_with_quantile[\"mean\"]> df_with_quantile[\"quant\"]] = 0\n"
     ]
    },
    {
     "name": "stdout",
     "output_type": "stream",
     "text": [
      "It took 29.132915496826172 to deal with MIROC5 for year 2061\n",
      "\n",
      "\n",
      "start model: MIROC-ESM\n",
      "Start to load csv /glade/scratch/zhonghua/CMIP5_pred_min/2006/MIROC-ESM.csv\n",
      "It takes 7.357496500015259 to load csv\n",
      "The quantile is: 0.98\n",
      "The duration threshold is: 2\n"
     ]
    },
    {
     "name": "stderr",
     "output_type": "stream",
     "text": [
      "/glade/work/zhonghua/code_uhws_ncc_private/3_revision/5_event_analysis_min/util.py:95: SettingWithCopyWarning: \n",
      "A value is trying to be set on a copy of a slice from a DataFrame\n",
      "\n",
      "See the caveats in the documentation: https://pandas.pydata.org/pandas-docs/stable/user_guide/indexing.html#returning-a-view-versus-a-copy\n",
      "  df_with_quantile[\"HW\"][df_with_quantile[\"mean\"]> df_with_quantile[\"quant\"]] = 0\n"
     ]
    },
    {
     "name": "stdout",
     "output_type": "stream",
     "text": [
      "It took 35.07813572883606 to deal with MIROC-ESM for year 2006\n",
      "Start to load csv /glade/scratch/zhonghua/CMIP5_pred_min/2061/MIROC-ESM.csv\n",
      "It takes 7.292303562164307 to load csv\n",
      "The quantile is: None\n",
      "The duration threshold is: 2\n"
     ]
    },
    {
     "name": "stderr",
     "output_type": "stream",
     "text": [
      "/glade/work/zhonghua/code_uhws_ncc_private/3_revision/5_event_analysis_min/util.py:95: SettingWithCopyWarning: \n",
      "A value is trying to be set on a copy of a slice from a DataFrame\n",
      "\n",
      "See the caveats in the documentation: https://pandas.pydata.org/pandas-docs/stable/user_guide/indexing.html#returning-a-view-versus-a-copy\n",
      "  df_with_quantile[\"HW\"][df_with_quantile[\"mean\"]> df_with_quantile[\"quant\"]] = 0\n"
     ]
    },
    {
     "name": "stdout",
     "output_type": "stream",
     "text": [
      "It took 28.67347264289856 to deal with MIROC-ESM for year 2061\n",
      "\n",
      "\n",
      "start model: MIROC-ESM-CHEM\n",
      "Start to load csv /glade/scratch/zhonghua/CMIP5_pred_min/2006/MIROC-ESM-CHEM.csv\n",
      "It takes 7.252814531326294 to load csv\n",
      "The quantile is: 0.98\n",
      "The duration threshold is: 2\n"
     ]
    },
    {
     "name": "stderr",
     "output_type": "stream",
     "text": [
      "/glade/work/zhonghua/code_uhws_ncc_private/3_revision/5_event_analysis_min/util.py:95: SettingWithCopyWarning: \n",
      "A value is trying to be set on a copy of a slice from a DataFrame\n",
      "\n",
      "See the caveats in the documentation: https://pandas.pydata.org/pandas-docs/stable/user_guide/indexing.html#returning-a-view-versus-a-copy\n",
      "  df_with_quantile[\"HW\"][df_with_quantile[\"mean\"]> df_with_quantile[\"quant\"]] = 0\n"
     ]
    },
    {
     "name": "stdout",
     "output_type": "stream",
     "text": [
      "It took 34.163413763046265 to deal with MIROC-ESM-CHEM for year 2006\n",
      "Start to load csv /glade/scratch/zhonghua/CMIP5_pred_min/2061/MIROC-ESM-CHEM.csv\n",
      "It takes 7.285650014877319 to load csv\n",
      "The quantile is: None\n",
      "The duration threshold is: 2\n"
     ]
    },
    {
     "name": "stderr",
     "output_type": "stream",
     "text": [
      "/glade/work/zhonghua/code_uhws_ncc_private/3_revision/5_event_analysis_min/util.py:95: SettingWithCopyWarning: \n",
      "A value is trying to be set on a copy of a slice from a DataFrame\n",
      "\n",
      "See the caveats in the documentation: https://pandas.pydata.org/pandas-docs/stable/user_guide/indexing.html#returning-a-view-versus-a-copy\n",
      "  df_with_quantile[\"HW\"][df_with_quantile[\"mean\"]> df_with_quantile[\"quant\"]] = 0\n"
     ]
    },
    {
     "name": "stdout",
     "output_type": "stream",
     "text": [
      "It took 29.664271354675293 to deal with MIROC-ESM-CHEM for year 2061\n",
      "\n",
      "\n",
      "start model: MRI-CGCM3\n",
      "Start to load csv /glade/scratch/zhonghua/CMIP5_pred_min/2006/MRI-CGCM3.csv\n",
      "It takes 7.371919393539429 to load csv\n",
      "The quantile is: 0.98\n",
      "The duration threshold is: 2\n"
     ]
    },
    {
     "name": "stderr",
     "output_type": "stream",
     "text": [
      "/glade/work/zhonghua/code_uhws_ncc_private/3_revision/5_event_analysis_min/util.py:95: SettingWithCopyWarning: \n",
      "A value is trying to be set on a copy of a slice from a DataFrame\n",
      "\n",
      "See the caveats in the documentation: https://pandas.pydata.org/pandas-docs/stable/user_guide/indexing.html#returning-a-view-versus-a-copy\n",
      "  df_with_quantile[\"HW\"][df_with_quantile[\"mean\"]> df_with_quantile[\"quant\"]] = 0\n"
     ]
    },
    {
     "name": "stdout",
     "output_type": "stream",
     "text": [
      "It took 35.09349727630615 to deal with MRI-CGCM3 for year 2006\n",
      "Start to load csv /glade/scratch/zhonghua/CMIP5_pred_min/2061/MRI-CGCM3.csv\n",
      "It takes 7.3211350440979 to load csv\n",
      "The quantile is: None\n",
      "The duration threshold is: 2\n"
     ]
    },
    {
     "name": "stderr",
     "output_type": "stream",
     "text": [
      "/glade/work/zhonghua/code_uhws_ncc_private/3_revision/5_event_analysis_min/util.py:95: SettingWithCopyWarning: \n",
      "A value is trying to be set on a copy of a slice from a DataFrame\n",
      "\n",
      "See the caveats in the documentation: https://pandas.pydata.org/pandas-docs/stable/user_guide/indexing.html#returning-a-view-versus-a-copy\n",
      "  df_with_quantile[\"HW\"][df_with_quantile[\"mean\"]> df_with_quantile[\"quant\"]] = 0\n"
     ]
    },
    {
     "name": "stdout",
     "output_type": "stream",
     "text": [
      "It took 28.62909173965454 to deal with MRI-CGCM3 for year 2061\n",
      "\n",
      "\n",
      "start model: MRI-ESM1\n",
      "Start to load csv /glade/scratch/zhonghua/CMIP5_pred_min/2006/MRI-ESM1.csv\n",
      "It takes 7.271330833435059 to load csv\n",
      "The quantile is: 0.98\n",
      "The duration threshold is: 2\n"
     ]
    },
    {
     "name": "stderr",
     "output_type": "stream",
     "text": [
      "/glade/work/zhonghua/code_uhws_ncc_private/3_revision/5_event_analysis_min/util.py:95: SettingWithCopyWarning: \n",
      "A value is trying to be set on a copy of a slice from a DataFrame\n",
      "\n",
      "See the caveats in the documentation: https://pandas.pydata.org/pandas-docs/stable/user_guide/indexing.html#returning-a-view-versus-a-copy\n",
      "  df_with_quantile[\"HW\"][df_with_quantile[\"mean\"]> df_with_quantile[\"quant\"]] = 0\n"
     ]
    },
    {
     "name": "stdout",
     "output_type": "stream",
     "text": [
      "It took 34.328792095184326 to deal with MRI-ESM1 for year 2006\n",
      "Start to load csv /glade/scratch/zhonghua/CMIP5_pred_min/2061/MRI-ESM1.csv\n",
      "It takes 7.293258428573608 to load csv\n",
      "The quantile is: None\n",
      "The duration threshold is: 2\n"
     ]
    },
    {
     "name": "stderr",
     "output_type": "stream",
     "text": [
      "/glade/work/zhonghua/code_uhws_ncc_private/3_revision/5_event_analysis_min/util.py:95: SettingWithCopyWarning: \n",
      "A value is trying to be set on a copy of a slice from a DataFrame\n",
      "\n",
      "See the caveats in the documentation: https://pandas.pydata.org/pandas-docs/stable/user_guide/indexing.html#returning-a-view-versus-a-copy\n",
      "  df_with_quantile[\"HW\"][df_with_quantile[\"mean\"]> df_with_quantile[\"quant\"]] = 0\n"
     ]
    },
    {
     "name": "stdout",
     "output_type": "stream",
     "text": [
      "It took 27.912867307662964 to deal with MRI-ESM1 for year 2061\n",
      "\n",
      "\n"
     ]
    }
   ],
   "source": [
    "frequency_2006_ls=[]\n",
    "duration_2006_ls=[]\n",
    "intensity_2006_ls=[]\n",
    "quantile_avail_2006_ls=[]\n",
    "\n",
    "frequency_2061_ls=[]\n",
    "duration_2061_ls=[]\n",
    "intensity_2061_ls=[]\n",
    "\n",
    "for model in CMIP5_ls:\n",
    "    print(\"start model:\",model)\n",
    "    \n",
    "    # start 2006\n",
    "    start_time_2006=time.time()\n",
    "    df_2006=util.load_df(\"/glade/scratch/zhonghua/CMIP5_pred_min/2006/\"+model+\".csv\")\n",
    "    cmip_2006_hw, quantile_avail_2006=util.get_heat_waves_df(df_2006, 0.98, 2, \"cmip\", None)\n",
    "    \n",
    "    frequency_2006_ls.append(util.get_frequency(cmip_2006_hw,model))\n",
    "    duration_2006_ls.append(util.get_duration(cmip_2006_hw,model))\n",
    "    intensity_2006_ls.append(util.get_intensity(cmip_2006_hw,model))\n",
    "    quantile_avail_2006_ls.append(quantile_avail_2006.copy().rename(columns={\"quant\": model}).set_index([\"lat\",\"lon\"]))\n",
    "    print(\"It took\",time.time()-start_time_2006,\"to deal with\",model,\"for year 2006\")\n",
    "\n",
    "    \n",
    "    # start 2061\n",
    "    start_time_2061=time.time()\n",
    "    df_2061=util.load_df(\"/glade/scratch/zhonghua/CMIP5_pred_min/2061/\"+model+\".csv\")\n",
    "    cmip_2061_hw, quantile_avail_2061=util.get_heat_waves_df(df_2061, None, 2, \"cmip\", quantile_avail_2006)\n",
    "    \n",
    "    frequency_2061_ls.append(util.get_frequency(cmip_2061_hw,model))\n",
    "    duration_2061_ls.append(util.get_duration(cmip_2061_hw,model))\n",
    "    intensity_2061_ls.append(util.get_intensity(cmip_2061_hw,model))\n",
    "    \n",
    "    print(\"It took\",time.time()-start_time_2061,\"to deal with\",model,\"for year 2061\")\n",
    "    print(\"\\n\")\n",
    "    \n",
    "    del df_2006, df_2061, quantile_avail_2006, quantile_avail_2061\n",
    "    gc.collect()"
   ]
  },
  {
   "cell_type": "code",
   "execution_count": 4,
   "metadata": {},
   "outputs": [],
   "source": [
    "frequency_2006 = pd.concat(frequency_2006_ls, axis=1)\n",
    "duration_2006 = pd.concat(duration_2006_ls, axis=1)\n",
    "intensity_2006 = pd.concat(intensity_2006_ls, axis=1)\n",
    "quantile_avail_2006 = pd.concat(quantile_avail_2006_ls, axis=1)\n",
    "\n",
    "frequency_2061 = pd.concat(frequency_2061_ls, axis=1)\n",
    "duration_2061 = pd.concat(duration_2061_ls, axis=1)\n",
    "intensity_2061 = pd.concat(intensity_2061_ls, axis=1)"
   ]
  },
  {
   "cell_type": "code",
   "execution_count": 5,
   "metadata": {},
   "outputs": [],
   "source": [
    "# here the quantile 2006 and quantile 2061 should be same\n",
    "frequency_2006.to_csv(save_dir+\"2006_frequency.csv\")\n",
    "duration_2006.to_csv(save_dir+\"2006_totaldays.csv\")\n",
    "intensity_2006.to_csv(save_dir+\"2006_intensity.csv\")\n",
    "quantile_avail_2006.to_csv(save_dir+\"2006_percentile.csv\")\n",
    "\n",
    "frequency_2061.to_csv(save_dir+\"2061_frequency.csv\")\n",
    "duration_2061.to_csv(save_dir+\"2061_totaldays.csv\")\n",
    "intensity_2061.to_csv(save_dir+\"2061_intensity.csv\")"
   ]
  }
 ],
 "metadata": {
  "kernelspec": {
   "display_name": "Python 3",
   "language": "python",
   "name": "python3"
  },
  "language_info": {
   "codemirror_mode": {
    "name": "ipython",
    "version": 3
   },
   "file_extension": ".py",
   "mimetype": "text/x-python",
   "name": "python",
   "nbconvert_exporter": "python",
   "pygments_lexer": "ipython3",
   "version": "3.6.7"
  },
  "toc": {
   "base_numbering": 1,
   "nav_menu": {},
   "number_sections": true,
   "sideBar": true,
   "skip_h1_title": false,
   "title_cell": "Table of Contents",
   "title_sidebar": "Contents",
   "toc_cell": false,
   "toc_position": {},
   "toc_section_display": true,
   "toc_window_display": false
  }
 },
 "nbformat": 4,
 "nbformat_minor": 2
}
